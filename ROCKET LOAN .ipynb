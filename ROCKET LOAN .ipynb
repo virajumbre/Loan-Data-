{
 "cells": [
  {
   "cell_type": "code",
   "execution_count": 1,
   "id": "7019a3ba",
   "metadata": {},
   "outputs": [],
   "source": [
    "import pandas as pd\n",
    "import numpy as np\n",
    "from sklearn.preprocessing import LabelEncoder\n",
    "import matplotlib.pyplot as plt\n",
    "import seaborn as sns\n",
    "from statistics import mode\n",
    "from collections import OrderedDict\n",
    "from sklearn.preprocessing import StandardScaler\n",
    "from statsmodels.stats.outliers_influence import variance_inflation_factor\n",
    "from sklearn.decomposition import PCA\n",
    "from sklearn.model_selection import train_test_split, cross_val_score ,GridSearchCV, learning_curve\n",
    "from sklearn.metrics import accuracy_score, mean_squared_error\n",
    "from sklearn.linear_model import LogisticRegression,RidgeClassifier\n",
    "from sklearn.tree import DecisionTreeClassifier\n",
    "from sklearn.neighbors import KNeighborsClassifier\n",
    "from sklearn.ensemble import RandomForestClassifier,AdaBoostClassifier , GradientBoostingClassifier\n",
    "from sklearn.svm import SVC\n",
    "import xgboost\n",
    "from xgboost import XGBClassifier\n",
    "import warnings \n",
    "warnings.filterwarnings('ignore')"
   ]
  },
  {
   "cell_type": "code",
   "execution_count": 2,
   "id": "f0d895f6",
   "metadata": {},
   "outputs": [
    {
     "data": {
      "text/html": [
       "<div>\n",
       "<style scoped>\n",
       "    .dataframe tbody tr th:only-of-type {\n",
       "        vertical-align: middle;\n",
       "    }\n",
       "\n",
       "    .dataframe tbody tr th {\n",
       "        vertical-align: top;\n",
       "    }\n",
       "\n",
       "    .dataframe thead th {\n",
       "        text-align: right;\n",
       "    }\n",
       "</style>\n",
       "<table border=\"1\" class=\"dataframe\">\n",
       "  <thead>\n",
       "    <tr style=\"text-align: right;\">\n",
       "      <th></th>\n",
       "      <th>Loan_ID</th>\n",
       "      <th>Sex</th>\n",
       "      <th>Age</th>\n",
       "      <th>Married</th>\n",
       "      <th>No. of People in the Family</th>\n",
       "      <th>Qualification</th>\n",
       "      <th>Self_Employed</th>\n",
       "      <th>Loan_Bearer_Income</th>\n",
       "      <th>Loan_Cobearer_Income</th>\n",
       "      <th>Amount Disbursed</th>\n",
       "      <th>Loan_Tenure</th>\n",
       "      <th>Credit_Score</th>\n",
       "      <th>Location_type</th>\n",
       "      <th>Loan_Status</th>\n",
       "    </tr>\n",
       "  </thead>\n",
       "  <tbody>\n",
       "    <tr>\n",
       "      <th>0</th>\n",
       "      <td>LP001002</td>\n",
       "      <td>Male</td>\n",
       "      <td>33</td>\n",
       "      <td>No</td>\n",
       "      <td>0</td>\n",
       "      <td>Graduate</td>\n",
       "      <td>No</td>\n",
       "      <td>5849</td>\n",
       "      <td>0.0</td>\n",
       "      <td>108.0</td>\n",
       "      <td>360.0</td>\n",
       "      <td>1.0</td>\n",
       "      <td>Urban</td>\n",
       "      <td>Y</td>\n",
       "    </tr>\n",
       "    <tr>\n",
       "      <th>1</th>\n",
       "      <td>LP001003</td>\n",
       "      <td>Male</td>\n",
       "      <td>34</td>\n",
       "      <td>Yes</td>\n",
       "      <td>1</td>\n",
       "      <td>Graduate</td>\n",
       "      <td>No</td>\n",
       "      <td>4583</td>\n",
       "      <td>1508.0</td>\n",
       "      <td>128.0</td>\n",
       "      <td>360.0</td>\n",
       "      <td>1.0</td>\n",
       "      <td>Rural</td>\n",
       "      <td>N</td>\n",
       "    </tr>\n",
       "    <tr>\n",
       "      <th>2</th>\n",
       "      <td>LP001005</td>\n",
       "      <td>Male</td>\n",
       "      <td>31</td>\n",
       "      <td>Yes</td>\n",
       "      <td>0</td>\n",
       "      <td>Graduate</td>\n",
       "      <td>Yes</td>\n",
       "      <td>3000</td>\n",
       "      <td>0.0</td>\n",
       "      <td>66.0</td>\n",
       "      <td>360.0</td>\n",
       "      <td>1.0</td>\n",
       "      <td>Urban</td>\n",
       "      <td>Y</td>\n",
       "    </tr>\n",
       "    <tr>\n",
       "      <th>3</th>\n",
       "      <td>LP001006</td>\n",
       "      <td>Male</td>\n",
       "      <td>33</td>\n",
       "      <td>Yes</td>\n",
       "      <td>0</td>\n",
       "      <td>Not Graduate</td>\n",
       "      <td>No</td>\n",
       "      <td>2583</td>\n",
       "      <td>2358.0</td>\n",
       "      <td>120.0</td>\n",
       "      <td>360.0</td>\n",
       "      <td>1.0</td>\n",
       "      <td>Urban</td>\n",
       "      <td>Y</td>\n",
       "    </tr>\n",
       "    <tr>\n",
       "      <th>4</th>\n",
       "      <td>LP001008</td>\n",
       "      <td>Male</td>\n",
       "      <td>48</td>\n",
       "      <td>No</td>\n",
       "      <td>0</td>\n",
       "      <td>Graduate</td>\n",
       "      <td>No</td>\n",
       "      <td>6000</td>\n",
       "      <td>0.0</td>\n",
       "      <td>141.0</td>\n",
       "      <td>360.0</td>\n",
       "      <td>1.0</td>\n",
       "      <td>Urban</td>\n",
       "      <td>Y</td>\n",
       "    </tr>\n",
       "  </tbody>\n",
       "</table>\n",
       "</div>"
      ],
      "text/plain": [
       "    Loan_ID   Sex  Age Married No. of People in the Family Qualification  \\\n",
       "0  LP001002  Male   33      No                           0      Graduate   \n",
       "1  LP001003  Male   34     Yes                           1      Graduate   \n",
       "2  LP001005  Male   31     Yes                           0      Graduate   \n",
       "3  LP001006  Male   33     Yes                           0  Not Graduate   \n",
       "4  LP001008  Male   48      No                           0      Graduate   \n",
       "\n",
       "  Self_Employed  Loan_Bearer_Income  Loan_Cobearer_Income  Amount Disbursed  \\\n",
       "0            No                5849                   0.0             108.0   \n",
       "1            No                4583                1508.0             128.0   \n",
       "2           Yes                3000                   0.0              66.0   \n",
       "3            No                2583                2358.0             120.0   \n",
       "4            No                6000                   0.0             141.0   \n",
       "\n",
       "   Loan_Tenure  Credit_Score Location_type Loan_Status  \n",
       "0        360.0           1.0         Urban           Y  \n",
       "1        360.0           1.0         Rural           N  \n",
       "2        360.0           1.0         Urban           Y  \n",
       "3        360.0           1.0         Urban           Y  \n",
       "4        360.0           1.0         Urban           Y  "
      ]
     },
     "execution_count": 2,
     "metadata": {},
     "output_type": "execute_result"
    }
   ],
   "source": [
    "df = pd.read_excel(\"Rocket_Loans.xlsx\")\n",
    "df.head()"
   ]
  },
  {
   "cell_type": "code",
   "execution_count": 3,
   "id": "37215716",
   "metadata": {},
   "outputs": [
    {
     "data": {
      "text/html": [
       "<div>\n",
       "<style scoped>\n",
       "    .dataframe tbody tr th:only-of-type {\n",
       "        vertical-align: middle;\n",
       "    }\n",
       "\n",
       "    .dataframe tbody tr th {\n",
       "        vertical-align: top;\n",
       "    }\n",
       "\n",
       "    .dataframe thead th {\n",
       "        text-align: right;\n",
       "    }\n",
       "</style>\n",
       "<table border=\"1\" class=\"dataframe\">\n",
       "  <thead>\n",
       "    <tr style=\"text-align: right;\">\n",
       "      <th></th>\n",
       "      <th>Loan_ID</th>\n",
       "      <th>Sex</th>\n",
       "      <th>Age</th>\n",
       "      <th>Married</th>\n",
       "      <th>No. of People in the Family</th>\n",
       "      <th>Qualification</th>\n",
       "      <th>Self_Employed</th>\n",
       "      <th>Loan_Bearer_Income</th>\n",
       "      <th>Loan_Cobearer_Income</th>\n",
       "      <th>Amount Disbursed</th>\n",
       "      <th>Loan_Tenure</th>\n",
       "      <th>Credit_Score</th>\n",
       "      <th>Location_type</th>\n",
       "      <th>Loan_Status</th>\n",
       "    </tr>\n",
       "  </thead>\n",
       "  <tbody>\n",
       "    <tr>\n",
       "      <th>0</th>\n",
       "      <td>LP001002</td>\n",
       "      <td>Male</td>\n",
       "      <td>33</td>\n",
       "      <td>No</td>\n",
       "      <td>0</td>\n",
       "      <td>Graduate</td>\n",
       "      <td>No</td>\n",
       "      <td>5849</td>\n",
       "      <td>0.0</td>\n",
       "      <td>108.0</td>\n",
       "      <td>360.0</td>\n",
       "      <td>1.0</td>\n",
       "      <td>Urban</td>\n",
       "      <td>Y</td>\n",
       "    </tr>\n",
       "    <tr>\n",
       "      <th>1</th>\n",
       "      <td>LP001003</td>\n",
       "      <td>Male</td>\n",
       "      <td>34</td>\n",
       "      <td>Yes</td>\n",
       "      <td>1</td>\n",
       "      <td>Graduate</td>\n",
       "      <td>No</td>\n",
       "      <td>4583</td>\n",
       "      <td>1508.0</td>\n",
       "      <td>128.0</td>\n",
       "      <td>360.0</td>\n",
       "      <td>1.0</td>\n",
       "      <td>Rural</td>\n",
       "      <td>N</td>\n",
       "    </tr>\n",
       "    <tr>\n",
       "      <th>2</th>\n",
       "      <td>LP001005</td>\n",
       "      <td>Male</td>\n",
       "      <td>31</td>\n",
       "      <td>Yes</td>\n",
       "      <td>0</td>\n",
       "      <td>Graduate</td>\n",
       "      <td>Yes</td>\n",
       "      <td>3000</td>\n",
       "      <td>0.0</td>\n",
       "      <td>66.0</td>\n",
       "      <td>360.0</td>\n",
       "      <td>1.0</td>\n",
       "      <td>Urban</td>\n",
       "      <td>Y</td>\n",
       "    </tr>\n",
       "    <tr>\n",
       "      <th>3</th>\n",
       "      <td>LP001006</td>\n",
       "      <td>Male</td>\n",
       "      <td>33</td>\n",
       "      <td>Yes</td>\n",
       "      <td>0</td>\n",
       "      <td>Not Graduate</td>\n",
       "      <td>No</td>\n",
       "      <td>2583</td>\n",
       "      <td>2358.0</td>\n",
       "      <td>120.0</td>\n",
       "      <td>360.0</td>\n",
       "      <td>1.0</td>\n",
       "      <td>Urban</td>\n",
       "      <td>Y</td>\n",
       "    </tr>\n",
       "    <tr>\n",
       "      <th>4</th>\n",
       "      <td>LP001008</td>\n",
       "      <td>Male</td>\n",
       "      <td>48</td>\n",
       "      <td>No</td>\n",
       "      <td>0</td>\n",
       "      <td>Graduate</td>\n",
       "      <td>No</td>\n",
       "      <td>6000</td>\n",
       "      <td>0.0</td>\n",
       "      <td>141.0</td>\n",
       "      <td>360.0</td>\n",
       "      <td>1.0</td>\n",
       "      <td>Urban</td>\n",
       "      <td>Y</td>\n",
       "    </tr>\n",
       "    <tr>\n",
       "      <th>...</th>\n",
       "      <td>...</td>\n",
       "      <td>...</td>\n",
       "      <td>...</td>\n",
       "      <td>...</td>\n",
       "      <td>...</td>\n",
       "      <td>...</td>\n",
       "      <td>...</td>\n",
       "      <td>...</td>\n",
       "      <td>...</td>\n",
       "      <td>...</td>\n",
       "      <td>...</td>\n",
       "      <td>...</td>\n",
       "      <td>...</td>\n",
       "      <td>...</td>\n",
       "    </tr>\n",
       "    <tr>\n",
       "      <th>609</th>\n",
       "      <td>LP002978</td>\n",
       "      <td>Female</td>\n",
       "      <td>28</td>\n",
       "      <td>No</td>\n",
       "      <td>0</td>\n",
       "      <td>Graduate</td>\n",
       "      <td>No</td>\n",
       "      <td>2900</td>\n",
       "      <td>0.0</td>\n",
       "      <td>71.0</td>\n",
       "      <td>360.0</td>\n",
       "      <td>1.0</td>\n",
       "      <td>Rural</td>\n",
       "      <td>Y</td>\n",
       "    </tr>\n",
       "    <tr>\n",
       "      <th>610</th>\n",
       "      <td>LP002979</td>\n",
       "      <td>Male</td>\n",
       "      <td>33</td>\n",
       "      <td>Yes</td>\n",
       "      <td>3+</td>\n",
       "      <td>Graduate</td>\n",
       "      <td>No</td>\n",
       "      <td>4106</td>\n",
       "      <td>0.0</td>\n",
       "      <td>40.0</td>\n",
       "      <td>180.0</td>\n",
       "      <td>1.0</td>\n",
       "      <td>Rural</td>\n",
       "      <td>Y</td>\n",
       "    </tr>\n",
       "    <tr>\n",
       "      <th>611</th>\n",
       "      <td>LP002983</td>\n",
       "      <td>Male</td>\n",
       "      <td>39</td>\n",
       "      <td>Yes</td>\n",
       "      <td>1</td>\n",
       "      <td>Graduate</td>\n",
       "      <td>No</td>\n",
       "      <td>8072</td>\n",
       "      <td>240.0</td>\n",
       "      <td>253.0</td>\n",
       "      <td>360.0</td>\n",
       "      <td>1.0</td>\n",
       "      <td>Urban</td>\n",
       "      <td>Y</td>\n",
       "    </tr>\n",
       "    <tr>\n",
       "      <th>612</th>\n",
       "      <td>LP002984</td>\n",
       "      <td>Male</td>\n",
       "      <td>47</td>\n",
       "      <td>Yes</td>\n",
       "      <td>2</td>\n",
       "      <td>Graduate</td>\n",
       "      <td>No</td>\n",
       "      <td>7583</td>\n",
       "      <td>0.0</td>\n",
       "      <td>187.0</td>\n",
       "      <td>360.0</td>\n",
       "      <td>1.0</td>\n",
       "      <td>Urban</td>\n",
       "      <td>Y</td>\n",
       "    </tr>\n",
       "    <tr>\n",
       "      <th>613</th>\n",
       "      <td>LP002990</td>\n",
       "      <td>Female</td>\n",
       "      <td>35</td>\n",
       "      <td>No</td>\n",
       "      <td>0</td>\n",
       "      <td>Graduate</td>\n",
       "      <td>Yes</td>\n",
       "      <td>4583</td>\n",
       "      <td>0.0</td>\n",
       "      <td>133.0</td>\n",
       "      <td>360.0</td>\n",
       "      <td>0.0</td>\n",
       "      <td>Semiurban</td>\n",
       "      <td>N</td>\n",
       "    </tr>\n",
       "  </tbody>\n",
       "</table>\n",
       "<p>614 rows × 14 columns</p>\n",
       "</div>"
      ],
      "text/plain": [
       "      Loan_ID     Sex  Age Married No. of People in the Family Qualification  \\\n",
       "0    LP001002    Male   33      No                           0      Graduate   \n",
       "1    LP001003    Male   34     Yes                           1      Graduate   \n",
       "2    LP001005    Male   31     Yes                           0      Graduate   \n",
       "3    LP001006    Male   33     Yes                           0  Not Graduate   \n",
       "4    LP001008    Male   48      No                           0      Graduate   \n",
       "..        ...     ...  ...     ...                         ...           ...   \n",
       "609  LP002978  Female   28      No                           0      Graduate   \n",
       "610  LP002979    Male   33     Yes                          3+      Graduate   \n",
       "611  LP002983    Male   39     Yes                           1      Graduate   \n",
       "612  LP002984    Male   47     Yes                           2      Graduate   \n",
       "613  LP002990  Female   35      No                           0      Graduate   \n",
       "\n",
       "    Self_Employed  Loan_Bearer_Income  Loan_Cobearer_Income  Amount Disbursed  \\\n",
       "0              No                5849                   0.0             108.0   \n",
       "1              No                4583                1508.0             128.0   \n",
       "2             Yes                3000                   0.0              66.0   \n",
       "3              No                2583                2358.0             120.0   \n",
       "4              No                6000                   0.0             141.0   \n",
       "..            ...                 ...                   ...               ...   \n",
       "609            No                2900                   0.0              71.0   \n",
       "610            No                4106                   0.0              40.0   \n",
       "611            No                8072                 240.0             253.0   \n",
       "612            No                7583                   0.0             187.0   \n",
       "613           Yes                4583                   0.0             133.0   \n",
       "\n",
       "     Loan_Tenure  Credit_Score Location_type Loan_Status  \n",
       "0          360.0           1.0         Urban           Y  \n",
       "1          360.0           1.0         Rural           N  \n",
       "2          360.0           1.0         Urban           Y  \n",
       "3          360.0           1.0         Urban           Y  \n",
       "4          360.0           1.0         Urban           Y  \n",
       "..           ...           ...           ...         ...  \n",
       "609        360.0           1.0         Rural           Y  \n",
       "610        180.0           1.0         Rural           Y  \n",
       "611        360.0           1.0         Urban           Y  \n",
       "612        360.0           1.0         Urban           Y  \n",
       "613        360.0           0.0     Semiurban           N  \n",
       "\n",
       "[614 rows x 14 columns]"
      ]
     },
     "execution_count": 3,
     "metadata": {},
     "output_type": "execute_result"
    }
   ],
   "source": [
    "df.drop_duplicates() # there is no duplicates"
   ]
  },
  {
   "cell_type": "code",
   "execution_count": 4,
   "id": "af268d07",
   "metadata": {},
   "outputs": [
    {
     "data": {
      "text/html": [
       "<div>\n",
       "<style scoped>\n",
       "    .dataframe tbody tr th:only-of-type {\n",
       "        vertical-align: middle;\n",
       "    }\n",
       "\n",
       "    .dataframe tbody tr th {\n",
       "        vertical-align: top;\n",
       "    }\n",
       "\n",
       "    .dataframe thead th {\n",
       "        text-align: right;\n",
       "    }\n",
       "</style>\n",
       "<table border=\"1\" class=\"dataframe\">\n",
       "  <thead>\n",
       "    <tr style=\"text-align: right;\">\n",
       "      <th></th>\n",
       "      <th>Sex</th>\n",
       "      <th>Age</th>\n",
       "      <th>Married</th>\n",
       "      <th>No. of People in the Family</th>\n",
       "      <th>Qualification</th>\n",
       "      <th>Self_Employed</th>\n",
       "      <th>Loan_Bearer_Income</th>\n",
       "      <th>Loan_Cobearer_Income</th>\n",
       "      <th>Amount Disbursed</th>\n",
       "      <th>Loan_Tenure</th>\n",
       "      <th>Credit_Score</th>\n",
       "      <th>Location_type</th>\n",
       "      <th>Loan_Status</th>\n",
       "    </tr>\n",
       "  </thead>\n",
       "  <tbody>\n",
       "    <tr>\n",
       "      <th>0</th>\n",
       "      <td>Male</td>\n",
       "      <td>33</td>\n",
       "      <td>No</td>\n",
       "      <td>0</td>\n",
       "      <td>Graduate</td>\n",
       "      <td>No</td>\n",
       "      <td>5849</td>\n",
       "      <td>0.0</td>\n",
       "      <td>108.0</td>\n",
       "      <td>360.0</td>\n",
       "      <td>1.0</td>\n",
       "      <td>Urban</td>\n",
       "      <td>Y</td>\n",
       "    </tr>\n",
       "    <tr>\n",
       "      <th>1</th>\n",
       "      <td>Male</td>\n",
       "      <td>34</td>\n",
       "      <td>Yes</td>\n",
       "      <td>1</td>\n",
       "      <td>Graduate</td>\n",
       "      <td>No</td>\n",
       "      <td>4583</td>\n",
       "      <td>1508.0</td>\n",
       "      <td>128.0</td>\n",
       "      <td>360.0</td>\n",
       "      <td>1.0</td>\n",
       "      <td>Rural</td>\n",
       "      <td>N</td>\n",
       "    </tr>\n",
       "    <tr>\n",
       "      <th>2</th>\n",
       "      <td>Male</td>\n",
       "      <td>31</td>\n",
       "      <td>Yes</td>\n",
       "      <td>0</td>\n",
       "      <td>Graduate</td>\n",
       "      <td>Yes</td>\n",
       "      <td>3000</td>\n",
       "      <td>0.0</td>\n",
       "      <td>66.0</td>\n",
       "      <td>360.0</td>\n",
       "      <td>1.0</td>\n",
       "      <td>Urban</td>\n",
       "      <td>Y</td>\n",
       "    </tr>\n",
       "    <tr>\n",
       "      <th>3</th>\n",
       "      <td>Male</td>\n",
       "      <td>33</td>\n",
       "      <td>Yes</td>\n",
       "      <td>0</td>\n",
       "      <td>Not Graduate</td>\n",
       "      <td>No</td>\n",
       "      <td>2583</td>\n",
       "      <td>2358.0</td>\n",
       "      <td>120.0</td>\n",
       "      <td>360.0</td>\n",
       "      <td>1.0</td>\n",
       "      <td>Urban</td>\n",
       "      <td>Y</td>\n",
       "    </tr>\n",
       "    <tr>\n",
       "      <th>4</th>\n",
       "      <td>Male</td>\n",
       "      <td>48</td>\n",
       "      <td>No</td>\n",
       "      <td>0</td>\n",
       "      <td>Graduate</td>\n",
       "      <td>No</td>\n",
       "      <td>6000</td>\n",
       "      <td>0.0</td>\n",
       "      <td>141.0</td>\n",
       "      <td>360.0</td>\n",
       "      <td>1.0</td>\n",
       "      <td>Urban</td>\n",
       "      <td>Y</td>\n",
       "    </tr>\n",
       "  </tbody>\n",
       "</table>\n",
       "</div>"
      ],
      "text/plain": [
       "    Sex  Age Married No. of People in the Family Qualification Self_Employed  \\\n",
       "0  Male   33      No                           0      Graduate            No   \n",
       "1  Male   34     Yes                           1      Graduate            No   \n",
       "2  Male   31     Yes                           0      Graduate           Yes   \n",
       "3  Male   33     Yes                           0  Not Graduate            No   \n",
       "4  Male   48      No                           0      Graduate            No   \n",
       "\n",
       "   Loan_Bearer_Income  Loan_Cobearer_Income  Amount Disbursed  Loan_Tenure  \\\n",
       "0                5849                   0.0             108.0        360.0   \n",
       "1                4583                1508.0             128.0        360.0   \n",
       "2                3000                   0.0              66.0        360.0   \n",
       "3                2583                2358.0             120.0        360.0   \n",
       "4                6000                   0.0             141.0        360.0   \n",
       "\n",
       "   Credit_Score Location_type Loan_Status  \n",
       "0           1.0         Urban           Y  \n",
       "1           1.0         Rural           N  \n",
       "2           1.0         Urban           Y  \n",
       "3           1.0         Urban           Y  \n",
       "4           1.0         Urban           Y  "
      ]
     },
     "execution_count": 4,
     "metadata": {},
     "output_type": "execute_result"
    }
   ],
   "source": [
    "df = df.drop(\"Loan_ID\",axis = 1) #we dont requried loan id so we drop it \n",
    "df.head()"
   ]
  },
  {
   "cell_type": "markdown",
   "id": "15f807f3",
   "metadata": {},
   "source": [
    "1. a) Check for missing values in the dataset. Apply appropriate imputation techniques if dataset has missing values. "
   ]
  },
  {
   "cell_type": "code",
   "execution_count": 5,
   "id": "d6a98b92",
   "metadata": {},
   "outputs": [
    {
     "data": {
      "text/plain": [
       "Sex                            13\n",
       "Age                             0\n",
       "Married                         3\n",
       "No. of People in the Family    15\n",
       "Qualification                   0\n",
       "Self_Employed                  32\n",
       "Loan_Bearer_Income              0\n",
       "Loan_Cobearer_Income            0\n",
       "Amount Disbursed               21\n",
       "Loan_Tenure                    14\n",
       "Credit_Score                   50\n",
       "Location_type                   0\n",
       "Loan_Status                     0\n",
       "dtype: int64"
      ]
     },
     "execution_count": 5,
     "metadata": {},
     "output_type": "execute_result"
    }
   ],
   "source": [
    "df.isna().sum()"
   ]
  },
  {
   "cell_type": "code",
   "execution_count": 6,
   "id": "40878fd1",
   "metadata": {},
   "outputs": [],
   "source": [
    "for i in df.columns:\n",
    "    if df[i].dtypes == 'object':\n",
    "        df[i] = df[i].fillna(mode(df[i]))"
   ]
  },
  {
   "cell_type": "code",
   "execution_count": 7,
   "id": "e591f291",
   "metadata": {},
   "outputs": [],
   "source": [
    "for i in df.columns:\n",
    "    if df[i].dtypes == 'float64':\n",
    "        df[i] = df[i].fillna(mode(df[i]))"
   ]
  },
  {
   "cell_type": "code",
   "execution_count": 8,
   "id": "2e726b63",
   "metadata": {},
   "outputs": [
    {
     "data": {
      "text/plain": [
       "Sex                            0\n",
       "Age                            0\n",
       "Married                        0\n",
       "No. of People in the Family    0\n",
       "Qualification                  0\n",
       "Self_Employed                  0\n",
       "Loan_Bearer_Income             0\n",
       "Loan_Cobearer_Income           0\n",
       "Amount Disbursed               0\n",
       "Loan_Tenure                    0\n",
       "Credit_Score                   0\n",
       "Location_type                  0\n",
       "Loan_Status                    0\n",
       "dtype: int64"
      ]
     },
     "execution_count": 8,
     "metadata": {},
     "output_type": "execute_result"
    }
   ],
   "source": [
    "df.isna().sum()"
   ]
  },
  {
   "cell_type": "code",
   "execution_count": 9,
   "id": "22df6528",
   "metadata": {},
   "outputs": [
    {
     "data": {
      "text/plain": [
       "Male      502\n",
       "Female    112\n",
       "Name: Sex, dtype: int64"
      ]
     },
     "execution_count": 9,
     "metadata": {},
     "output_type": "execute_result"
    }
   ],
   "source": [
    "df.Sex.value_counts()"
   ]
  },
  {
   "cell_type": "code",
   "execution_count": 10,
   "id": "4138a60f",
   "metadata": {},
   "outputs": [
    {
     "data": {
      "text/plain": [
       "array(['Male', 'Female'], dtype=object)"
      ]
     },
     "execution_count": 10,
     "metadata": {},
     "output_type": "execute_result"
    }
   ],
   "source": [
    "df[\"Sex\"].unique()"
   ]
  },
  {
   "cell_type": "code",
   "execution_count": 11,
   "id": "fc3e040b",
   "metadata": {},
   "outputs": [
    {
     "data": {
      "text/plain": [
       "array([0, 1, 2, '3+'], dtype=object)"
      ]
     },
     "execution_count": 11,
     "metadata": {},
     "output_type": "execute_result"
    }
   ],
   "source": [
    "df[\"No. of People in the Family\"].unique()"
   ]
  },
  {
   "cell_type": "code",
   "execution_count": 12,
   "id": "99ae59bd",
   "metadata": {},
   "outputs": [],
   "source": [
    "df['No. of People in the Family'] = df['No. of People in the Family'].fillna(0)"
   ]
  },
  {
   "cell_type": "code",
   "execution_count": 13,
   "id": "72d18860",
   "metadata": {},
   "outputs": [],
   "source": [
    "df[\"No. of People in the Family\"] = df[\"No. of People in the Family\"].replace(['3+'],[3])"
   ]
  },
  {
   "cell_type": "code",
   "execution_count": 14,
   "id": "10f04655",
   "metadata": {},
   "outputs": [
    {
     "data": {
      "text/plain": [
       "array([0, 1, 2, 3], dtype=int64)"
      ]
     },
     "execution_count": 14,
     "metadata": {},
     "output_type": "execute_result"
    }
   ],
   "source": [
    "df[\"No. of People in the Family\"].unique()"
   ]
  },
  {
   "cell_type": "code",
   "execution_count": 15,
   "id": "54ae4473",
   "metadata": {},
   "outputs": [],
   "source": [
    "le = LabelEncoder() # these step i do label encoder\n",
    "for i in df.columns:\n",
    "    if df[i].dtypes == \"object\":\n",
    "        df[i] = le.fit_transform(df[i])\n"
   ]
  },
  {
   "cell_type": "code",
   "execution_count": 16,
   "id": "adb4f24f",
   "metadata": {},
   "outputs": [
    {
     "data": {
      "text/html": [
       "<div>\n",
       "<style scoped>\n",
       "    .dataframe tbody tr th:only-of-type {\n",
       "        vertical-align: middle;\n",
       "    }\n",
       "\n",
       "    .dataframe tbody tr th {\n",
       "        vertical-align: top;\n",
       "    }\n",
       "\n",
       "    .dataframe thead th {\n",
       "        text-align: right;\n",
       "    }\n",
       "</style>\n",
       "<table border=\"1\" class=\"dataframe\">\n",
       "  <thead>\n",
       "    <tr style=\"text-align: right;\">\n",
       "      <th></th>\n",
       "      <th>Sex</th>\n",
       "      <th>Age</th>\n",
       "      <th>Married</th>\n",
       "      <th>No. of People in the Family</th>\n",
       "      <th>Qualification</th>\n",
       "      <th>Self_Employed</th>\n",
       "      <th>Loan_Bearer_Income</th>\n",
       "      <th>Loan_Cobearer_Income</th>\n",
       "      <th>Amount Disbursed</th>\n",
       "      <th>Loan_Tenure</th>\n",
       "      <th>Credit_Score</th>\n",
       "      <th>Location_type</th>\n",
       "      <th>Loan_Status</th>\n",
       "    </tr>\n",
       "  </thead>\n",
       "  <tbody>\n",
       "    <tr>\n",
       "      <th>0</th>\n",
       "      <td>1</td>\n",
       "      <td>33</td>\n",
       "      <td>0</td>\n",
       "      <td>0</td>\n",
       "      <td>0</td>\n",
       "      <td>0</td>\n",
       "      <td>5849</td>\n",
       "      <td>0.0</td>\n",
       "      <td>108.0</td>\n",
       "      <td>360.0</td>\n",
       "      <td>1.0</td>\n",
       "      <td>2</td>\n",
       "      <td>1</td>\n",
       "    </tr>\n",
       "    <tr>\n",
       "      <th>1</th>\n",
       "      <td>1</td>\n",
       "      <td>34</td>\n",
       "      <td>1</td>\n",
       "      <td>1</td>\n",
       "      <td>0</td>\n",
       "      <td>0</td>\n",
       "      <td>4583</td>\n",
       "      <td>1508.0</td>\n",
       "      <td>128.0</td>\n",
       "      <td>360.0</td>\n",
       "      <td>1.0</td>\n",
       "      <td>0</td>\n",
       "      <td>0</td>\n",
       "    </tr>\n",
       "    <tr>\n",
       "      <th>2</th>\n",
       "      <td>1</td>\n",
       "      <td>31</td>\n",
       "      <td>1</td>\n",
       "      <td>0</td>\n",
       "      <td>0</td>\n",
       "      <td>1</td>\n",
       "      <td>3000</td>\n",
       "      <td>0.0</td>\n",
       "      <td>66.0</td>\n",
       "      <td>360.0</td>\n",
       "      <td>1.0</td>\n",
       "      <td>2</td>\n",
       "      <td>1</td>\n",
       "    </tr>\n",
       "    <tr>\n",
       "      <th>3</th>\n",
       "      <td>1</td>\n",
       "      <td>33</td>\n",
       "      <td>1</td>\n",
       "      <td>0</td>\n",
       "      <td>1</td>\n",
       "      <td>0</td>\n",
       "      <td>2583</td>\n",
       "      <td>2358.0</td>\n",
       "      <td>120.0</td>\n",
       "      <td>360.0</td>\n",
       "      <td>1.0</td>\n",
       "      <td>2</td>\n",
       "      <td>1</td>\n",
       "    </tr>\n",
       "    <tr>\n",
       "      <th>4</th>\n",
       "      <td>1</td>\n",
       "      <td>48</td>\n",
       "      <td>0</td>\n",
       "      <td>0</td>\n",
       "      <td>0</td>\n",
       "      <td>0</td>\n",
       "      <td>6000</td>\n",
       "      <td>0.0</td>\n",
       "      <td>141.0</td>\n",
       "      <td>360.0</td>\n",
       "      <td>1.0</td>\n",
       "      <td>2</td>\n",
       "      <td>1</td>\n",
       "    </tr>\n",
       "    <tr>\n",
       "      <th>...</th>\n",
       "      <td>...</td>\n",
       "      <td>...</td>\n",
       "      <td>...</td>\n",
       "      <td>...</td>\n",
       "      <td>...</td>\n",
       "      <td>...</td>\n",
       "      <td>...</td>\n",
       "      <td>...</td>\n",
       "      <td>...</td>\n",
       "      <td>...</td>\n",
       "      <td>...</td>\n",
       "      <td>...</td>\n",
       "      <td>...</td>\n",
       "    </tr>\n",
       "    <tr>\n",
       "      <th>609</th>\n",
       "      <td>0</td>\n",
       "      <td>28</td>\n",
       "      <td>0</td>\n",
       "      <td>0</td>\n",
       "      <td>0</td>\n",
       "      <td>0</td>\n",
       "      <td>2900</td>\n",
       "      <td>0.0</td>\n",
       "      <td>71.0</td>\n",
       "      <td>360.0</td>\n",
       "      <td>1.0</td>\n",
       "      <td>0</td>\n",
       "      <td>1</td>\n",
       "    </tr>\n",
       "    <tr>\n",
       "      <th>610</th>\n",
       "      <td>1</td>\n",
       "      <td>33</td>\n",
       "      <td>1</td>\n",
       "      <td>3</td>\n",
       "      <td>0</td>\n",
       "      <td>0</td>\n",
       "      <td>4106</td>\n",
       "      <td>0.0</td>\n",
       "      <td>40.0</td>\n",
       "      <td>180.0</td>\n",
       "      <td>1.0</td>\n",
       "      <td>0</td>\n",
       "      <td>1</td>\n",
       "    </tr>\n",
       "    <tr>\n",
       "      <th>611</th>\n",
       "      <td>1</td>\n",
       "      <td>39</td>\n",
       "      <td>1</td>\n",
       "      <td>1</td>\n",
       "      <td>0</td>\n",
       "      <td>0</td>\n",
       "      <td>8072</td>\n",
       "      <td>240.0</td>\n",
       "      <td>253.0</td>\n",
       "      <td>360.0</td>\n",
       "      <td>1.0</td>\n",
       "      <td>2</td>\n",
       "      <td>1</td>\n",
       "    </tr>\n",
       "    <tr>\n",
       "      <th>612</th>\n",
       "      <td>1</td>\n",
       "      <td>47</td>\n",
       "      <td>1</td>\n",
       "      <td>2</td>\n",
       "      <td>0</td>\n",
       "      <td>0</td>\n",
       "      <td>7583</td>\n",
       "      <td>0.0</td>\n",
       "      <td>187.0</td>\n",
       "      <td>360.0</td>\n",
       "      <td>1.0</td>\n",
       "      <td>2</td>\n",
       "      <td>1</td>\n",
       "    </tr>\n",
       "    <tr>\n",
       "      <th>613</th>\n",
       "      <td>0</td>\n",
       "      <td>35</td>\n",
       "      <td>0</td>\n",
       "      <td>0</td>\n",
       "      <td>0</td>\n",
       "      <td>1</td>\n",
       "      <td>4583</td>\n",
       "      <td>0.0</td>\n",
       "      <td>133.0</td>\n",
       "      <td>360.0</td>\n",
       "      <td>0.0</td>\n",
       "      <td>1</td>\n",
       "      <td>0</td>\n",
       "    </tr>\n",
       "  </tbody>\n",
       "</table>\n",
       "<p>614 rows × 13 columns</p>\n",
       "</div>"
      ],
      "text/plain": [
       "     Sex  Age  Married  No. of People in the Family  Qualification  \\\n",
       "0      1   33        0                            0              0   \n",
       "1      1   34        1                            1              0   \n",
       "2      1   31        1                            0              0   \n",
       "3      1   33        1                            0              1   \n",
       "4      1   48        0                            0              0   \n",
       "..   ...  ...      ...                          ...            ...   \n",
       "609    0   28        0                            0              0   \n",
       "610    1   33        1                            3              0   \n",
       "611    1   39        1                            1              0   \n",
       "612    1   47        1                            2              0   \n",
       "613    0   35        0                            0              0   \n",
       "\n",
       "     Self_Employed  Loan_Bearer_Income  Loan_Cobearer_Income  \\\n",
       "0                0                5849                   0.0   \n",
       "1                0                4583                1508.0   \n",
       "2                1                3000                   0.0   \n",
       "3                0                2583                2358.0   \n",
       "4                0                6000                   0.0   \n",
       "..             ...                 ...                   ...   \n",
       "609              0                2900                   0.0   \n",
       "610              0                4106                   0.0   \n",
       "611              0                8072                 240.0   \n",
       "612              0                7583                   0.0   \n",
       "613              1                4583                   0.0   \n",
       "\n",
       "     Amount Disbursed  Loan_Tenure  Credit_Score  Location_type  Loan_Status  \n",
       "0               108.0        360.0           1.0              2            1  \n",
       "1               128.0        360.0           1.0              0            0  \n",
       "2                66.0        360.0           1.0              2            1  \n",
       "3               120.0        360.0           1.0              2            1  \n",
       "4               141.0        360.0           1.0              2            1  \n",
       "..                ...          ...           ...            ...          ...  \n",
       "609              71.0        360.0           1.0              0            1  \n",
       "610              40.0        180.0           1.0              0            1  \n",
       "611             253.0        360.0           1.0              2            1  \n",
       "612             187.0        360.0           1.0              2            1  \n",
       "613             133.0        360.0           0.0              1            0  \n",
       "\n",
       "[614 rows x 13 columns]"
      ]
     },
     "execution_count": 16,
     "metadata": {},
     "output_type": "execute_result"
    }
   ],
   "source": [
    "df"
   ]
  },
  {
   "cell_type": "code",
   "execution_count": 17,
   "id": "46b58181",
   "metadata": {},
   "outputs": [],
   "source": [
    "def custom_summary(df):\n",
    "    \n",
    "    result = []\n",
    "    for i in df.columns:\n",
    "        \n",
    "        statistics = OrderedDict({\n",
    "            \"Feature Name\": i,\n",
    "            'Count': df[i].count(),\n",
    "            'Data type': df[i].dtype,\n",
    "            'Min': round(df[i].min(),2),\n",
    "            \"Quartiles 1\": round(df[i].quantile(.25),2),\n",
    "            \"Mean\": round(df[i].mean(),2),\n",
    "            \"Median\": round(df[i].quantile(.50),2),\n",
    "            \"Quartiles 3\": round(df[i].quantile(.75),2),\n",
    "            \"Max\": round(df[i].max(),2),\n",
    "            \"Var\": round(df[i].var(),2),\n",
    "            \"Std\": round(df[i].std(),2),\n",
    "            'IQR': round(df[i].quantile(.75),2) - round(df[i].quantile(.25),2),\n",
    "        })\n",
    "        \n",
    "        result.append(statistics)\n",
    "        \n",
    "        \n",
    "        #checking for kurtosis\n",
    "\n",
    "        if df[i].kurt() >= 1 :  #start kurt\n",
    "            label = 'LeptoKurtic'\n",
    "        elif df[i].kurt() <= -1 :\n",
    "            label = 'Platykurtic'\n",
    "        else:\n",
    "            label = 'Mesokurtic'      #end kurt\n",
    "        statistics['kurtosis comment'] = label\n",
    "        \n",
    "        #checking for skewness\n",
    "        sk=df[i].skew()\n",
    "        if sk<=-1:\n",
    "            sk_v='Highle -ve skewed'\n",
    "        elif sk>-1 and sk<-0.5:\n",
    "            sk_v='Moderately -ve skewed'\n",
    "        elif sk>=-0.5 and sk<=0.5:\n",
    "            sk_v='Approx symmetric'\n",
    "        elif sk>0.5 and sk<1:\n",
    "            sk_v='Moderately +ve skewed'\n",
    "        elif sk>=1:\n",
    "            sk_v='Highle +ve skewed'\n",
    "        statistics['skewness comment'] = sk_v\n",
    "        \n",
    "        \n",
    "    result_df = pd.DataFrame(data = result)\n",
    "        \n",
    "    return(result_df)\n",
    "        "
   ]
  },
  {
   "cell_type": "code",
   "execution_count": 18,
   "id": "7df05111",
   "metadata": {},
   "outputs": [
    {
     "data": {
      "text/html": [
       "<div>\n",
       "<style scoped>\n",
       "    .dataframe tbody tr th:only-of-type {\n",
       "        vertical-align: middle;\n",
       "    }\n",
       "\n",
       "    .dataframe tbody tr th {\n",
       "        vertical-align: top;\n",
       "    }\n",
       "\n",
       "    .dataframe thead th {\n",
       "        text-align: right;\n",
       "    }\n",
       "</style>\n",
       "<table border=\"1\" class=\"dataframe\">\n",
       "  <thead>\n",
       "    <tr style=\"text-align: right;\">\n",
       "      <th></th>\n",
       "      <th>Feature Name</th>\n",
       "      <th>Count</th>\n",
       "      <th>Data type</th>\n",
       "      <th>Min</th>\n",
       "      <th>Quartiles 1</th>\n",
       "      <th>Mean</th>\n",
       "      <th>Median</th>\n",
       "      <th>Quartiles 3</th>\n",
       "      <th>Max</th>\n",
       "      <th>Var</th>\n",
       "      <th>Std</th>\n",
       "      <th>IQR</th>\n",
       "      <th>kurtosis comment</th>\n",
       "      <th>skewness comment</th>\n",
       "    </tr>\n",
       "  </thead>\n",
       "  <tbody>\n",
       "    <tr>\n",
       "      <th>0</th>\n",
       "      <td>Sex</td>\n",
       "      <td>614</td>\n",
       "      <td>int32</td>\n",
       "      <td>0.0</td>\n",
       "      <td>1.00</td>\n",
       "      <td>0.82</td>\n",
       "      <td>1.0</td>\n",
       "      <td>1.00</td>\n",
       "      <td>1.0</td>\n",
       "      <td>0.15</td>\n",
       "      <td>0.39</td>\n",
       "      <td>0.00</td>\n",
       "      <td>Mesokurtic</td>\n",
       "      <td>Highle -ve skewed</td>\n",
       "    </tr>\n",
       "    <tr>\n",
       "      <th>1</th>\n",
       "      <td>Age</td>\n",
       "      <td>614</td>\n",
       "      <td>int64</td>\n",
       "      <td>25.0</td>\n",
       "      <td>32.00</td>\n",
       "      <td>38.47</td>\n",
       "      <td>39.0</td>\n",
       "      <td>45.00</td>\n",
       "      <td>52.0</td>\n",
       "      <td>66.01</td>\n",
       "      <td>8.12</td>\n",
       "      <td>13.00</td>\n",
       "      <td>Platykurtic</td>\n",
       "      <td>Approx symmetric</td>\n",
       "    </tr>\n",
       "    <tr>\n",
       "      <th>2</th>\n",
       "      <td>Married</td>\n",
       "      <td>614</td>\n",
       "      <td>int32</td>\n",
       "      <td>0.0</td>\n",
       "      <td>0.00</td>\n",
       "      <td>0.65</td>\n",
       "      <td>1.0</td>\n",
       "      <td>1.00</td>\n",
       "      <td>1.0</td>\n",
       "      <td>0.23</td>\n",
       "      <td>0.48</td>\n",
       "      <td>1.00</td>\n",
       "      <td>Platykurtic</td>\n",
       "      <td>Moderately -ve skewed</td>\n",
       "    </tr>\n",
       "    <tr>\n",
       "      <th>3</th>\n",
       "      <td>No. of People in the Family</td>\n",
       "      <td>614</td>\n",
       "      <td>int64</td>\n",
       "      <td>0.0</td>\n",
       "      <td>0.00</td>\n",
       "      <td>0.74</td>\n",
       "      <td>0.0</td>\n",
       "      <td>1.00</td>\n",
       "      <td>3.0</td>\n",
       "      <td>1.02</td>\n",
       "      <td>1.01</td>\n",
       "      <td>1.00</td>\n",
       "      <td>Mesokurtic</td>\n",
       "      <td>Highle +ve skewed</td>\n",
       "    </tr>\n",
       "    <tr>\n",
       "      <th>4</th>\n",
       "      <td>Qualification</td>\n",
       "      <td>614</td>\n",
       "      <td>int32</td>\n",
       "      <td>0.0</td>\n",
       "      <td>0.00</td>\n",
       "      <td>0.22</td>\n",
       "      <td>0.0</td>\n",
       "      <td>0.00</td>\n",
       "      <td>1.0</td>\n",
       "      <td>0.17</td>\n",
       "      <td>0.41</td>\n",
       "      <td>0.00</td>\n",
       "      <td>Mesokurtic</td>\n",
       "      <td>Highle +ve skewed</td>\n",
       "    </tr>\n",
       "    <tr>\n",
       "      <th>5</th>\n",
       "      <td>Self_Employed</td>\n",
       "      <td>614</td>\n",
       "      <td>int32</td>\n",
       "      <td>0.0</td>\n",
       "      <td>0.00</td>\n",
       "      <td>0.13</td>\n",
       "      <td>0.0</td>\n",
       "      <td>0.00</td>\n",
       "      <td>1.0</td>\n",
       "      <td>0.12</td>\n",
       "      <td>0.34</td>\n",
       "      <td>0.00</td>\n",
       "      <td>LeptoKurtic</td>\n",
       "      <td>Highle +ve skewed</td>\n",
       "    </tr>\n",
       "    <tr>\n",
       "      <th>6</th>\n",
       "      <td>Loan_Bearer_Income</td>\n",
       "      <td>614</td>\n",
       "      <td>int64</td>\n",
       "      <td>150.0</td>\n",
       "      <td>2877.50</td>\n",
       "      <td>5403.46</td>\n",
       "      <td>3812.5</td>\n",
       "      <td>5795.00</td>\n",
       "      <td>81000.0</td>\n",
       "      <td>37320390.17</td>\n",
       "      <td>6109.04</td>\n",
       "      <td>2917.50</td>\n",
       "      <td>LeptoKurtic</td>\n",
       "      <td>Highle +ve skewed</td>\n",
       "    </tr>\n",
       "    <tr>\n",
       "      <th>7</th>\n",
       "      <td>Loan_Cobearer_Income</td>\n",
       "      <td>614</td>\n",
       "      <td>float64</td>\n",
       "      <td>0.0</td>\n",
       "      <td>0.00</td>\n",
       "      <td>1621.25</td>\n",
       "      <td>1188.5</td>\n",
       "      <td>2297.25</td>\n",
       "      <td>41667.0</td>\n",
       "      <td>8562929.52</td>\n",
       "      <td>2926.25</td>\n",
       "      <td>2297.25</td>\n",
       "      <td>LeptoKurtic</td>\n",
       "      <td>Highle +ve skewed</td>\n",
       "    </tr>\n",
       "    <tr>\n",
       "      <th>8</th>\n",
       "      <td>Amount Disbursed</td>\n",
       "      <td>614</td>\n",
       "      <td>float64</td>\n",
       "      <td>9.0</td>\n",
       "      <td>100.25</td>\n",
       "      <td>145.45</td>\n",
       "      <td>125.0</td>\n",
       "      <td>164.75</td>\n",
       "      <td>700.0</td>\n",
       "      <td>7087.67</td>\n",
       "      <td>84.19</td>\n",
       "      <td>64.50</td>\n",
       "      <td>LeptoKurtic</td>\n",
       "      <td>Highle +ve skewed</td>\n",
       "    </tr>\n",
       "    <tr>\n",
       "      <th>9</th>\n",
       "      <td>Loan_Tenure</td>\n",
       "      <td>614</td>\n",
       "      <td>float64</td>\n",
       "      <td>12.0</td>\n",
       "      <td>360.00</td>\n",
       "      <td>342.41</td>\n",
       "      <td>360.0</td>\n",
       "      <td>360.00</td>\n",
       "      <td>480.0</td>\n",
       "      <td>4151.05</td>\n",
       "      <td>64.43</td>\n",
       "      <td>0.00</td>\n",
       "      <td>LeptoKurtic</td>\n",
       "      <td>Highle -ve skewed</td>\n",
       "    </tr>\n",
       "    <tr>\n",
       "      <th>10</th>\n",
       "      <td>Credit_Score</td>\n",
       "      <td>614</td>\n",
       "      <td>float64</td>\n",
       "      <td>0.0</td>\n",
       "      <td>1.00</td>\n",
       "      <td>0.86</td>\n",
       "      <td>1.0</td>\n",
       "      <td>1.00</td>\n",
       "      <td>1.0</td>\n",
       "      <td>0.12</td>\n",
       "      <td>0.35</td>\n",
       "      <td>0.00</td>\n",
       "      <td>LeptoKurtic</td>\n",
       "      <td>Highle -ve skewed</td>\n",
       "    </tr>\n",
       "    <tr>\n",
       "      <th>11</th>\n",
       "      <td>Location_type</td>\n",
       "      <td>614</td>\n",
       "      <td>int32</td>\n",
       "      <td>0.0</td>\n",
       "      <td>0.00</td>\n",
       "      <td>1.04</td>\n",
       "      <td>1.0</td>\n",
       "      <td>2.00</td>\n",
       "      <td>2.0</td>\n",
       "      <td>0.62</td>\n",
       "      <td>0.79</td>\n",
       "      <td>2.00</td>\n",
       "      <td>Platykurtic</td>\n",
       "      <td>Approx symmetric</td>\n",
       "    </tr>\n",
       "    <tr>\n",
       "      <th>12</th>\n",
       "      <td>Loan_Status</td>\n",
       "      <td>614</td>\n",
       "      <td>int32</td>\n",
       "      <td>0.0</td>\n",
       "      <td>0.00</td>\n",
       "      <td>0.69</td>\n",
       "      <td>1.0</td>\n",
       "      <td>1.00</td>\n",
       "      <td>1.0</td>\n",
       "      <td>0.22</td>\n",
       "      <td>0.46</td>\n",
       "      <td>1.00</td>\n",
       "      <td>Platykurtic</td>\n",
       "      <td>Moderately -ve skewed</td>\n",
       "    </tr>\n",
       "  </tbody>\n",
       "</table>\n",
       "</div>"
      ],
      "text/plain": [
       "                   Feature Name  Count Data type    Min  Quartiles 1     Mean  \\\n",
       "0                           Sex    614     int32    0.0         1.00     0.82   \n",
       "1                           Age    614     int64   25.0        32.00    38.47   \n",
       "2                       Married    614     int32    0.0         0.00     0.65   \n",
       "3   No. of People in the Family    614     int64    0.0         0.00     0.74   \n",
       "4                 Qualification    614     int32    0.0         0.00     0.22   \n",
       "5                 Self_Employed    614     int32    0.0         0.00     0.13   \n",
       "6            Loan_Bearer_Income    614     int64  150.0      2877.50  5403.46   \n",
       "7          Loan_Cobearer_Income    614   float64    0.0         0.00  1621.25   \n",
       "8              Amount Disbursed    614   float64    9.0       100.25   145.45   \n",
       "9                   Loan_Tenure    614   float64   12.0       360.00   342.41   \n",
       "10                 Credit_Score    614   float64    0.0         1.00     0.86   \n",
       "11                Location_type    614     int32    0.0         0.00     1.04   \n",
       "12                  Loan_Status    614     int32    0.0         0.00     0.69   \n",
       "\n",
       "    Median  Quartiles 3      Max          Var      Std      IQR  \\\n",
       "0      1.0         1.00      1.0         0.15     0.39     0.00   \n",
       "1     39.0        45.00     52.0        66.01     8.12    13.00   \n",
       "2      1.0         1.00      1.0         0.23     0.48     1.00   \n",
       "3      0.0         1.00      3.0         1.02     1.01     1.00   \n",
       "4      0.0         0.00      1.0         0.17     0.41     0.00   \n",
       "5      0.0         0.00      1.0         0.12     0.34     0.00   \n",
       "6   3812.5      5795.00  81000.0  37320390.17  6109.04  2917.50   \n",
       "7   1188.5      2297.25  41667.0   8562929.52  2926.25  2297.25   \n",
       "8    125.0       164.75    700.0      7087.67    84.19    64.50   \n",
       "9    360.0       360.00    480.0      4151.05    64.43     0.00   \n",
       "10     1.0         1.00      1.0         0.12     0.35     0.00   \n",
       "11     1.0         2.00      2.0         0.62     0.79     2.00   \n",
       "12     1.0         1.00      1.0         0.22     0.46     1.00   \n",
       "\n",
       "   kurtosis comment       skewness comment  \n",
       "0        Mesokurtic      Highle -ve skewed  \n",
       "1       Platykurtic       Approx symmetric  \n",
       "2       Platykurtic  Moderately -ve skewed  \n",
       "3        Mesokurtic      Highle +ve skewed  \n",
       "4        Mesokurtic      Highle +ve skewed  \n",
       "5       LeptoKurtic      Highle +ve skewed  \n",
       "6       LeptoKurtic      Highle +ve skewed  \n",
       "7       LeptoKurtic      Highle +ve skewed  \n",
       "8       LeptoKurtic      Highle +ve skewed  \n",
       "9       LeptoKurtic      Highle -ve skewed  \n",
       "10      LeptoKurtic      Highle -ve skewed  \n",
       "11      Platykurtic       Approx symmetric  \n",
       "12      Platykurtic  Moderately -ve skewed  "
      ]
     },
     "execution_count": 18,
     "metadata": {},
     "output_type": "execute_result"
    }
   ],
   "source": [
    "custom_summary(df)"
   ]
  },
  {
   "cell_type": "markdown",
   "id": "c5b54b9b",
   "metadata": {},
   "source": [
    "  c) Check for outliers in the dataset if any "
   ]
  },
  {
   "cell_type": "code",
   "execution_count": 19,
   "id": "3bbb19ee",
   "metadata": {},
   "outputs": [],
   "source": [
    "def outlier_treat(df, col, method = 'quartile', strategy = 'median'):\n",
    "    \n",
    "    \n",
    "    data = df[col]\n",
    "    median = data.median()\n",
    "    mean = data.mean()\n",
    "\n",
    "    if method == 'quartile':\n",
    "        q1 = data.quantile(.25)\n",
    "        q2 = data.quantile(.5)\n",
    "        q3 = data.quantile(.75)\n",
    "        iqr = q3 - q1\n",
    "        upper_limit = q3 + 1.5 * iqr\n",
    "        lower_limit = q1 - 1.5 * iqr\n",
    "        \n",
    "    elif method == 'stdev':\n",
    "        std = data.std()\n",
    "        upper_limit = mean + 2 * std\n",
    "        lower_limit = mean - 2 * std\n",
    "    else:\n",
    "        print('invalid method')\n",
    "      \n",
    "    \n",
    "    outliers = df.loc[(data<lower_limit)|(data>upper_limit),col]\n",
    "    outlier_percentage = round((len(outliers)/len(data)) * 100,2)\n",
    "     \n",
    "    if len(outliers) == 0 :\n",
    "        print(f'feature {col} does not have any outlier') \n",
    "        print('________________________________________')\n",
    "    else:\n",
    "        print(f'feature {col} has outliers')\n",
    "        print(f'outlier percentage is {outlier_percentage}')\n",
    "        print('________________________________________')\n",
    "              \n",
    "              \n",
    "    if strategy == 'median':\n",
    "        df.loc[(data<lower_limit)|(data>upper_limit),col] = median\n",
    "    elif strategy == 'mean':\n",
    "        df.loc[(data<lower_limit)|(data>upper_limit),col] = mean\n",
    "    else:\n",
    "        print('pass a correct strategy')\n",
    "        print('________________________________________')\n",
    "    \n",
    "              \n",
    "    return(df)"
   ]
  },
  {
   "cell_type": "markdown",
   "id": "1712ebca",
   "metadata": {},
   "source": [
    "# Implementing odt plots (outlier detection plot )"
   ]
  },
  {
   "cell_type": "code",
   "execution_count": 20,
   "id": "ac1879c0",
   "metadata": {},
   "outputs": [],
   "source": [
    "def odtplots(df,col):\n",
    "    \n",
    "    f,(ax1,ax2,ax3) = plt.subplots(1,3,figsize=(20,5))\n",
    "    \n",
    "    #ploting the box plot\n",
    "    \n",
    "    sns.boxplot(df[col],ax=ax1,color='red')\n",
    "    ax1.set_title('box plot for '+ col)\n",
    "    ax1.set_xlabel('values')\n",
    "    ax1.set_ylabel('box plot distribution')\n",
    "    \n",
    "    \n",
    "    #ploting the histogram with outliers\n",
    "    \n",
    "    sns.distplot(df[col],ax=ax2,color='blue')\n",
    "    ax2.set_title('Histogram with outlier for '+ col)\n",
    "    ax2.set_xlabel('Values')\n",
    "    ax2.set_ylabel('Distribution')\n",
    "    \n",
    "    \n",
    "    # ploting the histogram without outlier\n",
    "    \n",
    "    y = outlier_treat(df,col) \n",
    "    sns.distplot(y[col],ax=ax3,color='green')\n",
    "    ax3.set_title('Histogram without outlier for '+ col)\n",
    "    ax3.set_xlabel('Values')\n",
    "    ax3.set_ylabel('Distribution')\n",
    "    \n",
    "    \n",
    "    plt.show()"
   ]
  },
  {
   "cell_type": "code",
   "execution_count": 21,
   "id": "4f2362c3",
   "metadata": {},
   "outputs": [
    {
     "name": "stdout",
     "output_type": "stream",
     "text": [
      "feature Age does not have any outlier\n",
      "________________________________________\n"
     ]
    },
    {
     "data": {
      "image/png": "[encoded data removed]",
      "text/plain": [
       "<Figure size 1440x360 with 3 Axes>"
      ]
     },
     "metadata": {
      "needs_background": "light"
     },
     "output_type": "display_data"
    }
   ],
   "source": [
    "odtplots(df,'Age')"
   ]
  },
  {
   "cell_type": "code",
   "execution_count": 22,
   "id": "ed5870b0",
   "metadata": {},
   "outputs": [
    {
     "name": "stdout",
     "output_type": "stream",
     "text": [
      "feature Loan_Bearer_Income has outliers\n",
      "outlier percentage is 8.14\n",
      "________________________________________\n"
     ]
    },
    {
     "data": {
      "image/png": "[encoded data removed]",
      "text/plain": [
       "<Figure size 1440x360 with 3 Axes>"
      ]
     },
     "metadata": {
      "needs_background": "light"
     },
     "output_type": "display_data"
    }
   ],
   "source": [
    "odtplots(df,'Loan_Bearer_Income')"
   ]
  },
  {
   "cell_type": "code",
   "execution_count": 23,
   "id": "8d2acf15",
   "metadata": {},
   "outputs": [
    {
     "name": "stdout",
     "output_type": "stream",
     "text": [
      "feature Loan_Cobearer_Income has outliers\n",
      "outlier percentage is 2.93\n",
      "________________________________________\n"
     ]
    },
    {
     "data": {
      "image/png": "[encoded data removed]",
      "text/plain": [
       "<Figure size 1440x360 with 3 Axes>"
      ]
     },
     "metadata": {
      "needs_background": "light"
     },
     "output_type": "display_data"
    }
   ],
   "source": [
    "odtplots(df,'Loan_Cobearer_Income')"
   ]
  },
  {
   "cell_type": "code",
   "execution_count": 24,
   "id": "a5b46264",
   "metadata": {},
   "outputs": [
    {
     "name": "stdout",
     "output_type": "stream",
     "text": [
      "feature Amount Disbursed has outliers\n",
      "outlier percentage is 6.68\n",
      "________________________________________\n"
     ]
    },
    {
     "data": {
      "image/png": "[encoded data removed]",
      "text/plain": [
       "<Figure size 1440x360 with 3 Axes>"
      ]
     },
     "metadata": {
      "needs_background": "light"
     },
     "output_type": "display_data"
    }
   ],
   "source": [
    "odtplots(df,'Amount Disbursed')"
   ]
  },
  {
   "cell_type": "code",
   "execution_count": 25,
   "id": "4842755f",
   "metadata": {},
   "outputs": [
    {
     "data": {
      "image/png": "[encoded data removed]",
      "text/plain": [
       "<Figure size 360x360 with 1 Axes>"
      ]
     },
     "metadata": {
      "needs_background": "light"
     },
     "output_type": "display_data"
    },
    {
     "data": {
      "image/png": "[encoded data removed]",
      "text/plain": [
       "<Figure size 360x360 with 1 Axes>"
      ]
     },
     "metadata": {
      "needs_background": "light"
     },
     "output_type": "display_data"
    },
    {
     "data": {
      "image/png": "[encoded data removed]",
      "text/plain": [
       "<Figure size 360x360 with 1 Axes>"
      ]
     },
     "metadata": {
      "needs_background": "light"
     },
     "output_type": "display_data"
    },
    {
     "data": {
      "image/png": "[encoded data removed]",
      "text/plain": [
       "<Figure size 360x360 with 1 Axes>"
      ]
     },
     "metadata": {
      "needs_background": "light"
     },
     "output_type": "display_data"
    },
    {
     "data": {
      "image/png": "[encoded data removed]",
      "text/plain": [
       "<Figure size 360x360 with 1 Axes>"
      ]
     },
     "metadata": {
      "needs_background": "light"
     },
     "output_type": "display_data"
    },
    {
     "data": {
      "image/png": "[encoded data removed]",
      "text/plain": [
       "<Figure size 360x360 with 1 Axes>"
      ]
     },
     "metadata": {
      "needs_background": "light"
     },
     "output_type": "display_data"
    },
    {
     "data": {
      "image/png": "[encoded data removed]",
      "text/plain": [
       "<Figure size 360x360 with 1 Axes>"
      ]
     },
     "metadata": {
      "needs_background": "light"
     },
     "output_type": "display_data"
    },
    {
     "data": {
      "image/png": "[encoded data removed]",
      "text/plain": [
       "<Figure size 360x360 with 1 Axes>"
      ]
     },
     "metadata": {
      "needs_background": "light"
     },
     "output_type": "display_data"
    },
    {
     "data": {
      "image/png": "[encoded data removed]",
      "text/plain": [
       "<Figure size 360x360 with 1 Axes>"
      ]
     },
     "metadata": {
      "needs_background": "light"
     },
     "output_type": "display_data"
    },
    {
     "data": {
      "image/png": "[encoded data removed]",
      "text/plain": [
       "<Figure size 360x360 with 1 Axes>"
      ]
     },
     "metadata": {
      "needs_background": "light"
     },
     "output_type": "display_data"
    },
    {
     "data": {
      "image/png": "[encoded data removed]",
      "text/plain": [
       "<Figure size 360x360 with 1 Axes>"
      ]
     },
     "metadata": {
      "needs_background": "light"
     },
     "output_type": "display_data"
    },
    {
     "data": {
      "image/png": "[encoded data removed]",
      "text/plain": [
       "<Figure size 360x360 with 1 Axes>"
      ]
     },
     "metadata": {
      "needs_background": "light"
     },
     "output_type": "display_data"
    }
   ],
   "source": [
    "for col in df.columns :\n",
    "    if col != 'Loan_Status' :\n",
    "        f, ax = plt.subplots(figsize = (5,5))\n",
    "        sns.regplot(x = df[col], y = df['Loan_Status']).set_title(f'relation between {col} and Loan_Status')"
   ]
  },
  {
   "cell_type": "markdown",
   "id": "9ac4a162",
   "metadata": {},
   "source": [
    "2. Find loan approval rate for applicants having credit score (i.e. 1) "
   ]
  },
  {
   "cell_type": "code",
   "execution_count": 26,
   "id": "8ff8f48b",
   "metadata": {},
   "outputs": [
    {
     "data": {
      "text/plain": [
       "525"
      ]
     },
     "execution_count": 26,
     "metadata": {},
     "output_type": "execute_result"
    }
   ],
   "source": [
    "(df[\"Credit_Score\"] == 1).sum() #There are 475 applicante who have credit score is 1"
   ]
  },
  {
   "cell_type": "markdown",
   "id": "675b7fa3",
   "metadata": {},
   "source": [
    "3. Give frequency distribution of total income for each group below.  (i.e. Total Income =  Loan_bearer_income + Loan_Cobearer_income)  \n",
    "- Below 5k  \n",
    "- 5k to 10k    \n",
    "- 10k to 15k   \n",
    "- Above 15k "
   ]
  },
  {
   "cell_type": "code",
   "execution_count": 27,
   "id": "c2cf7fc3",
   "metadata": {},
   "outputs": [
    {
     "data": {
      "text/html": [
       "<div>\n",
       "<style scoped>\n",
       "    .dataframe tbody tr th:only-of-type {\n",
       "        vertical-align: middle;\n",
       "    }\n",
       "\n",
       "    .dataframe tbody tr th {\n",
       "        vertical-align: top;\n",
       "    }\n",
       "\n",
       "    .dataframe thead th {\n",
       "        text-align: right;\n",
       "    }\n",
       "</style>\n",
       "<table border=\"1\" class=\"dataframe\">\n",
       "  <thead>\n",
       "    <tr style=\"text-align: right;\">\n",
       "      <th></th>\n",
       "      <th>Sex</th>\n",
       "      <th>Age</th>\n",
       "      <th>Married</th>\n",
       "      <th>No. of People in the Family</th>\n",
       "      <th>Qualification</th>\n",
       "      <th>Self_Employed</th>\n",
       "      <th>Loan_Bearer_Income</th>\n",
       "      <th>Loan_Cobearer_Income</th>\n",
       "      <th>Amount Disbursed</th>\n",
       "      <th>Loan_Tenure</th>\n",
       "      <th>Credit_Score</th>\n",
       "      <th>Location_type</th>\n",
       "      <th>Loan_Status</th>\n",
       "      <th>total_income</th>\n",
       "    </tr>\n",
       "  </thead>\n",
       "  <tbody>\n",
       "    <tr>\n",
       "      <th>0</th>\n",
       "      <td>1</td>\n",
       "      <td>33</td>\n",
       "      <td>0</td>\n",
       "      <td>0</td>\n",
       "      <td>0</td>\n",
       "      <td>0</td>\n",
       "      <td>5849.0</td>\n",
       "      <td>0.0</td>\n",
       "      <td>108.0</td>\n",
       "      <td>360.0</td>\n",
       "      <td>1.0</td>\n",
       "      <td>2</td>\n",
       "      <td>1</td>\n",
       "      <td>5849.0</td>\n",
       "    </tr>\n",
       "    <tr>\n",
       "      <th>1</th>\n",
       "      <td>1</td>\n",
       "      <td>34</td>\n",
       "      <td>1</td>\n",
       "      <td>1</td>\n",
       "      <td>0</td>\n",
       "      <td>0</td>\n",
       "      <td>4583.0</td>\n",
       "      <td>1508.0</td>\n",
       "      <td>128.0</td>\n",
       "      <td>360.0</td>\n",
       "      <td>1.0</td>\n",
       "      <td>0</td>\n",
       "      <td>0</td>\n",
       "      <td>6091.0</td>\n",
       "    </tr>\n",
       "    <tr>\n",
       "      <th>2</th>\n",
       "      <td>1</td>\n",
       "      <td>31</td>\n",
       "      <td>1</td>\n",
       "      <td>0</td>\n",
       "      <td>0</td>\n",
       "      <td>1</td>\n",
       "      <td>3000.0</td>\n",
       "      <td>0.0</td>\n",
       "      <td>66.0</td>\n",
       "      <td>360.0</td>\n",
       "      <td>1.0</td>\n",
       "      <td>2</td>\n",
       "      <td>1</td>\n",
       "      <td>3000.0</td>\n",
       "    </tr>\n",
       "    <tr>\n",
       "      <th>3</th>\n",
       "      <td>1</td>\n",
       "      <td>33</td>\n",
       "      <td>1</td>\n",
       "      <td>0</td>\n",
       "      <td>1</td>\n",
       "      <td>0</td>\n",
       "      <td>2583.0</td>\n",
       "      <td>2358.0</td>\n",
       "      <td>120.0</td>\n",
       "      <td>360.0</td>\n",
       "      <td>1.0</td>\n",
       "      <td>2</td>\n",
       "      <td>1</td>\n",
       "      <td>4941.0</td>\n",
       "    </tr>\n",
       "    <tr>\n",
       "      <th>4</th>\n",
       "      <td>1</td>\n",
       "      <td>48</td>\n",
       "      <td>0</td>\n",
       "      <td>0</td>\n",
       "      <td>0</td>\n",
       "      <td>0</td>\n",
       "      <td>6000.0</td>\n",
       "      <td>0.0</td>\n",
       "      <td>141.0</td>\n",
       "      <td>360.0</td>\n",
       "      <td>1.0</td>\n",
       "      <td>2</td>\n",
       "      <td>1</td>\n",
       "      <td>6000.0</td>\n",
       "    </tr>\n",
       "    <tr>\n",
       "      <th>...</th>\n",
       "      <td>...</td>\n",
       "      <td>...</td>\n",
       "      <td>...</td>\n",
       "      <td>...</td>\n",
       "      <td>...</td>\n",
       "      <td>...</td>\n",
       "      <td>...</td>\n",
       "      <td>...</td>\n",
       "      <td>...</td>\n",
       "      <td>...</td>\n",
       "      <td>...</td>\n",
       "      <td>...</td>\n",
       "      <td>...</td>\n",
       "      <td>...</td>\n",
       "    </tr>\n",
       "    <tr>\n",
       "      <th>609</th>\n",
       "      <td>0</td>\n",
       "      <td>28</td>\n",
       "      <td>0</td>\n",
       "      <td>0</td>\n",
       "      <td>0</td>\n",
       "      <td>0</td>\n",
       "      <td>2900.0</td>\n",
       "      <td>0.0</td>\n",
       "      <td>71.0</td>\n",
       "      <td>360.0</td>\n",
       "      <td>1.0</td>\n",
       "      <td>0</td>\n",
       "      <td>1</td>\n",
       "      <td>2900.0</td>\n",
       "    </tr>\n",
       "    <tr>\n",
       "      <th>610</th>\n",
       "      <td>1</td>\n",
       "      <td>33</td>\n",
       "      <td>1</td>\n",
       "      <td>3</td>\n",
       "      <td>0</td>\n",
       "      <td>0</td>\n",
       "      <td>4106.0</td>\n",
       "      <td>0.0</td>\n",
       "      <td>40.0</td>\n",
       "      <td>180.0</td>\n",
       "      <td>1.0</td>\n",
       "      <td>0</td>\n",
       "      <td>1</td>\n",
       "      <td>4106.0</td>\n",
       "    </tr>\n",
       "    <tr>\n",
       "      <th>611</th>\n",
       "      <td>1</td>\n",
       "      <td>39</td>\n",
       "      <td>1</td>\n",
       "      <td>1</td>\n",
       "      <td>0</td>\n",
       "      <td>0</td>\n",
       "      <td>8072.0</td>\n",
       "      <td>240.0</td>\n",
       "      <td>253.0</td>\n",
       "      <td>360.0</td>\n",
       "      <td>1.0</td>\n",
       "      <td>2</td>\n",
       "      <td>1</td>\n",
       "      <td>8312.0</td>\n",
       "    </tr>\n",
       "    <tr>\n",
       "      <th>612</th>\n",
       "      <td>1</td>\n",
       "      <td>47</td>\n",
       "      <td>1</td>\n",
       "      <td>2</td>\n",
       "      <td>0</td>\n",
       "      <td>0</td>\n",
       "      <td>7583.0</td>\n",
       "      <td>0.0</td>\n",
       "      <td>187.0</td>\n",
       "      <td>360.0</td>\n",
       "      <td>1.0</td>\n",
       "      <td>2</td>\n",
       "      <td>1</td>\n",
       "      <td>7583.0</td>\n",
       "    </tr>\n",
       "    <tr>\n",
       "      <th>613</th>\n",
       "      <td>0</td>\n",
       "      <td>35</td>\n",
       "      <td>0</td>\n",
       "      <td>0</td>\n",
       "      <td>0</td>\n",
       "      <td>1</td>\n",
       "      <td>4583.0</td>\n",
       "      <td>0.0</td>\n",
       "      <td>133.0</td>\n",
       "      <td>360.0</td>\n",
       "      <td>0.0</td>\n",
       "      <td>1</td>\n",
       "      <td>0</td>\n",
       "      <td>4583.0</td>\n",
       "    </tr>\n",
       "  </tbody>\n",
       "</table>\n",
       "<p>614 rows × 14 columns</p>\n",
       "</div>"
      ],
      "text/plain": [
       "     Sex  Age  Married  No. of People in the Family  Qualification  \\\n",
       "0      1   33        0                            0              0   \n",
       "1      1   34        1                            1              0   \n",
       "2      1   31        1                            0              0   \n",
       "3      1   33        1                            0              1   \n",
       "4      1   48        0                            0              0   \n",
       "..   ...  ...      ...                          ...            ...   \n",
       "609    0   28        0                            0              0   \n",
       "610    1   33        1                            3              0   \n",
       "611    1   39        1                            1              0   \n",
       "612    1   47        1                            2              0   \n",
       "613    0   35        0                            0              0   \n",
       "\n",
       "     Self_Employed  Loan_Bearer_Income  Loan_Cobearer_Income  \\\n",
       "0                0              5849.0                   0.0   \n",
       "1                0              4583.0                1508.0   \n",
       "2                1              3000.0                   0.0   \n",
       "3                0              2583.0                2358.0   \n",
       "4                0              6000.0                   0.0   \n",
       "..             ...                 ...                   ...   \n",
       "609              0              2900.0                   0.0   \n",
       "610              0              4106.0                   0.0   \n",
       "611              0              8072.0                 240.0   \n",
       "612              0              7583.0                   0.0   \n",
       "613              1              4583.0                   0.0   \n",
       "\n",
       "     Amount Disbursed  Loan_Tenure  Credit_Score  Location_type  Loan_Status  \\\n",
       "0               108.0        360.0           1.0              2            1   \n",
       "1               128.0        360.0           1.0              0            0   \n",
       "2                66.0        360.0           1.0              2            1   \n",
       "3               120.0        360.0           1.0              2            1   \n",
       "4               141.0        360.0           1.0              2            1   \n",
       "..                ...          ...           ...            ...          ...   \n",
       "609              71.0        360.0           1.0              0            1   \n",
       "610              40.0        180.0           1.0              0            1   \n",
       "611             253.0        360.0           1.0              2            1   \n",
       "612             187.0        360.0           1.0              2            1   \n",
       "613             133.0        360.0           0.0              1            0   \n",
       "\n",
       "     total_income  \n",
       "0          5849.0  \n",
       "1          6091.0  \n",
       "2          3000.0  \n",
       "3          4941.0  \n",
       "4          6000.0  \n",
       "..            ...  \n",
       "609        2900.0  \n",
       "610        4106.0  \n",
       "611        8312.0  \n",
       "612        7583.0  \n",
       "613        4583.0  \n",
       "\n",
       "[614 rows x 14 columns]"
      ]
     },
     "execution_count": 27,
     "metadata": {},
     "output_type": "execute_result"
    }
   ],
   "source": [
    "total_income = df['Loan_Bearer_Income'] + df[\"Loan_Cobearer_Income\"] #first we convert  new columns as a total income\n",
    "df[\"total_income\"] = total_income\n",
    "df"
   ]
  },
  {
   "cell_type": "code",
   "execution_count": 28,
   "id": "08021266",
   "metadata": {},
   "outputs": [
    {
     "data": {
      "text/plain": [
       "(-0.001, 5000.0]       321\n",
       "(5000.0, 10000.0]      268\n",
       "(10000.0, 15000.0]      25\n",
       "(15000.0, 100000.0]      0\n",
       "Name: total_income, dtype: int64"
      ]
     },
     "execution_count": 28,
     "metadata": {},
     "output_type": "execute_result"
    }
   ],
   "source": [
    "df['total_income'].value_counts(bins = [0,5000,10000,15000,100000]) #the frequncy of total income"
   ]
  },
  {
   "cell_type": "markdown",
   "id": "03d0a668",
   "metadata": {},
   "source": [
    "# Correlation matrix"
   ]
  },
  {
   "cell_type": "code",
   "execution_count": 29,
   "id": "bb631b70",
   "metadata": {},
   "outputs": [],
   "source": [
    "def corr_variables(df,target):\n",
    "    ind_var = df.drop(target,axis=1).columns\n",
    "    \n",
    "    corr_result = []\n",
    "    for col in ind_var:\n",
    "        corr_result.append(df[target].corr(df[col]))\n",
    "        \n",
    "    result_df = pd.DataFrame([ind_var,corr_result],index = ['variables','correlation']).T.sort_values('correlation',ascending = False)\n",
    "    \n",
    "    return result_df"
   ]
  },
  {
   "cell_type": "code",
   "execution_count": 30,
   "id": "ee730289",
   "metadata": {},
   "outputs": [
    {
     "data": {
      "text/html": [
       "<div>\n",
       "<style scoped>\n",
       "    .dataframe tbody tr th:only-of-type {\n",
       "        vertical-align: middle;\n",
       "    }\n",
       "\n",
       "    .dataframe tbody tr th {\n",
       "        vertical-align: top;\n",
       "    }\n",
       "\n",
       "    .dataframe thead th {\n",
       "        text-align: right;\n",
       "    }\n",
       "</style>\n",
       "<table border=\"1\" class=\"dataframe\">\n",
       "  <thead>\n",
       "    <tr style=\"text-align: right;\">\n",
       "      <th></th>\n",
       "      <th>variables</th>\n",
       "      <th>correlation</th>\n",
       "    </tr>\n",
       "  </thead>\n",
       "  <tbody>\n",
       "    <tr>\n",
       "      <th>10</th>\n",
       "      <td>Credit_Score</td>\n",
       "      <td>0.540556</td>\n",
       "    </tr>\n",
       "    <tr>\n",
       "      <th>2</th>\n",
       "      <td>Married</td>\n",
       "      <td>0.091478</td>\n",
       "    </tr>\n",
       "    <tr>\n",
       "      <th>1</th>\n",
       "      <td>Age</td>\n",
       "      <td>0.061043</td>\n",
       "    </tr>\n",
       "    <tr>\n",
       "      <th>12</th>\n",
       "      <td>total_income</td>\n",
       "      <td>0.041249</td>\n",
       "    </tr>\n",
       "    <tr>\n",
       "      <th>7</th>\n",
       "      <td>Loan_Cobearer_Income</td>\n",
       "      <td>0.039885</td>\n",
       "    </tr>\n",
       "    <tr>\n",
       "      <th>11</th>\n",
       "      <td>Location_type</td>\n",
       "      <td>0.032112</td>\n",
       "    </tr>\n",
       "    <tr>\n",
       "      <th>0</th>\n",
       "      <td>Sex</td>\n",
       "      <td>0.017987</td>\n",
       "    </tr>\n",
       "    <tr>\n",
       "      <th>6</th>\n",
       "      <td>Loan_Bearer_Income</td>\n",
       "      <td>0.015912</td>\n",
       "    </tr>\n",
       "    <tr>\n",
       "      <th>3</th>\n",
       "      <td>No. of People in the Family</td>\n",
       "      <td>0.010118</td>\n",
       "    </tr>\n",
       "    <tr>\n",
       "      <th>5</th>\n",
       "      <td>Self_Employed</td>\n",
       "      <td>-0.0037</td>\n",
       "    </tr>\n",
       "    <tr>\n",
       "      <th>8</th>\n",
       "      <td>Amount Disbursed</td>\n",
       "      <td>-0.022475</td>\n",
       "    </tr>\n",
       "    <tr>\n",
       "      <th>9</th>\n",
       "      <td>Loan_Tenure</td>\n",
       "      <td>-0.022549</td>\n",
       "    </tr>\n",
       "    <tr>\n",
       "      <th>4</th>\n",
       "      <td>Qualification</td>\n",
       "      <td>-0.085884</td>\n",
       "    </tr>\n",
       "  </tbody>\n",
       "</table>\n",
       "</div>"
      ],
      "text/plain": [
       "                      variables correlation\n",
       "10                 Credit_Score    0.540556\n",
       "2                       Married    0.091478\n",
       "1                           Age    0.061043\n",
       "12                 total_income    0.041249\n",
       "7          Loan_Cobearer_Income    0.039885\n",
       "11                Location_type    0.032112\n",
       "0                           Sex    0.017987\n",
       "6            Loan_Bearer_Income    0.015912\n",
       "3   No. of People in the Family    0.010118\n",
       "5                 Self_Employed     -0.0037\n",
       "8              Amount Disbursed   -0.022475\n",
       "9                   Loan_Tenure   -0.022549\n",
       "4                 Qualification   -0.085884"
      ]
     },
     "execution_count": 30,
     "metadata": {},
     "output_type": "execute_result"
    }
   ],
   "source": [
    "corr_variables(df,'Loan_Status')"
   ]
  },
  {
   "cell_type": "code",
   "execution_count": 31,
   "id": "b273d02e",
   "metadata": {},
   "outputs": [
    {
     "data": {
      "text/html": [
       "<div>\n",
       "<style scoped>\n",
       "    .dataframe tbody tr th:only-of-type {\n",
       "        vertical-align: middle;\n",
       "    }\n",
       "\n",
       "    .dataframe tbody tr th {\n",
       "        vertical-align: top;\n",
       "    }\n",
       "\n",
       "    .dataframe thead th {\n",
       "        text-align: right;\n",
       "    }\n",
       "</style>\n",
       "<table border=\"1\" class=\"dataframe\">\n",
       "  <thead>\n",
       "    <tr style=\"text-align: right;\">\n",
       "      <th></th>\n",
       "      <th>Sex</th>\n",
       "      <th>Age</th>\n",
       "      <th>Married</th>\n",
       "      <th>No. of People in the Family</th>\n",
       "      <th>Qualification</th>\n",
       "      <th>Self_Employed</th>\n",
       "      <th>Loan_Bearer_Income</th>\n",
       "      <th>Loan_Cobearer_Income</th>\n",
       "      <th>Amount Disbursed</th>\n",
       "      <th>Loan_Tenure</th>\n",
       "      <th>Credit_Score</th>\n",
       "      <th>Location_type</th>\n",
       "      <th>Loan_Status</th>\n",
       "    </tr>\n",
       "  </thead>\n",
       "  <tbody>\n",
       "    <tr>\n",
       "      <th>0</th>\n",
       "      <td>1</td>\n",
       "      <td>33</td>\n",
       "      <td>0</td>\n",
       "      <td>0</td>\n",
       "      <td>0</td>\n",
       "      <td>0</td>\n",
       "      <td>5849.0</td>\n",
       "      <td>0.0</td>\n",
       "      <td>108.0</td>\n",
       "      <td>360.0</td>\n",
       "      <td>1.0</td>\n",
       "      <td>2</td>\n",
       "      <td>1</td>\n",
       "    </tr>\n",
       "    <tr>\n",
       "      <th>1</th>\n",
       "      <td>1</td>\n",
       "      <td>34</td>\n",
       "      <td>1</td>\n",
       "      <td>1</td>\n",
       "      <td>0</td>\n",
       "      <td>0</td>\n",
       "      <td>4583.0</td>\n",
       "      <td>1508.0</td>\n",
       "      <td>128.0</td>\n",
       "      <td>360.0</td>\n",
       "      <td>1.0</td>\n",
       "      <td>0</td>\n",
       "      <td>0</td>\n",
       "    </tr>\n",
       "    <tr>\n",
       "      <th>2</th>\n",
       "      <td>1</td>\n",
       "      <td>31</td>\n",
       "      <td>1</td>\n",
       "      <td>0</td>\n",
       "      <td>0</td>\n",
       "      <td>1</td>\n",
       "      <td>3000.0</td>\n",
       "      <td>0.0</td>\n",
       "      <td>66.0</td>\n",
       "      <td>360.0</td>\n",
       "      <td>1.0</td>\n",
       "      <td>2</td>\n",
       "      <td>1</td>\n",
       "    </tr>\n",
       "    <tr>\n",
       "      <th>3</th>\n",
       "      <td>1</td>\n",
       "      <td>33</td>\n",
       "      <td>1</td>\n",
       "      <td>0</td>\n",
       "      <td>1</td>\n",
       "      <td>0</td>\n",
       "      <td>2583.0</td>\n",
       "      <td>2358.0</td>\n",
       "      <td>120.0</td>\n",
       "      <td>360.0</td>\n",
       "      <td>1.0</td>\n",
       "      <td>2</td>\n",
       "      <td>1</td>\n",
       "    </tr>\n",
       "    <tr>\n",
       "      <th>4</th>\n",
       "      <td>1</td>\n",
       "      <td>48</td>\n",
       "      <td>0</td>\n",
       "      <td>0</td>\n",
       "      <td>0</td>\n",
       "      <td>0</td>\n",
       "      <td>6000.0</td>\n",
       "      <td>0.0</td>\n",
       "      <td>141.0</td>\n",
       "      <td>360.0</td>\n",
       "      <td>1.0</td>\n",
       "      <td>2</td>\n",
       "      <td>1</td>\n",
       "    </tr>\n",
       "  </tbody>\n",
       "</table>\n",
       "</div>"
      ],
      "text/plain": [
       "   Sex  Age  Married  No. of People in the Family  Qualification  \\\n",
       "0    1   33        0                            0              0   \n",
       "1    1   34        1                            1              0   \n",
       "2    1   31        1                            0              0   \n",
       "3    1   33        1                            0              1   \n",
       "4    1   48        0                            0              0   \n",
       "\n",
       "   Self_Employed  Loan_Bearer_Income  Loan_Cobearer_Income  Amount Disbursed  \\\n",
       "0              0              5849.0                   0.0             108.0   \n",
       "1              0              4583.0                1508.0             128.0   \n",
       "2              1              3000.0                   0.0              66.0   \n",
       "3              0              2583.0                2358.0             120.0   \n",
       "4              0              6000.0                   0.0             141.0   \n",
       "\n",
       "   Loan_Tenure  Credit_Score  Location_type  Loan_Status  \n",
       "0        360.0           1.0              2            1  \n",
       "1        360.0           1.0              0            0  \n",
       "2        360.0           1.0              2            1  \n",
       "3        360.0           1.0              2            1  \n",
       "4        360.0           1.0              2            1  "
      ]
     },
     "execution_count": 31,
     "metadata": {},
     "output_type": "execute_result"
    }
   ],
   "source": [
    "df = df.drop(\"total_income\",axis = 1)\n",
    "df.head()"
   ]
  },
  {
   "cell_type": "markdown",
   "id": "56d2bd89",
   "metadata": {},
   "source": [
    "# Checking  Multicolinearity"
   ]
  },
  {
   "cell_type": "code",
   "execution_count": 32,
   "id": "44751b19",
   "metadata": {},
   "outputs": [
    {
     "data": {
      "text/plain": [
       "<AxesSubplot:>"
      ]
     },
     "execution_count": 32,
     "metadata": {},
     "output_type": "execute_result"
    },
    {
     "data": {
      "image/png": "[encoded data removed]",
      "text/plain": [
       "<Figure size 720x720 with 2 Axes>"
      ]
     },
     "metadata": {
      "needs_background": "light"
     },
     "output_type": "display_data"
    }
   ],
   "source": [
    "corr = df.corr()\n",
    "\n",
    "fig = plt.subplots(figsize =(10,10))\n",
    "sns.heatmap(corr,annot=True)"
   ]
  },
  {
   "cell_type": "code",
   "execution_count": 33,
   "id": "445815dd",
   "metadata": {},
   "outputs": [],
   "source": [
    "# loan_Cobearer_Income and Amount Disbursed (22%)\n",
    "# loan_bearer_Income and Amount Disbursed (41%)\n",
    "# loan_Cobearer_Income and Married (24%)\n",
    "# Amount Disbursed and married (18%)\n",
    "# No. of People in the Family and married (33%)\n",
    "# married and sex (36%)"
   ]
  },
  {
   "cell_type": "markdown",
   "id": "d13b6530",
   "metadata": {},
   "source": [
    "# Varriance inflation Factor (VIF)"
   ]
  },
  {
   "cell_type": "code",
   "execution_count": 34,
   "id": "b18f1f05",
   "metadata": {},
   "outputs": [],
   "source": [
    "def vif(df,target):\n",
    "    indep_var = df.drop(target,axis =1 )\n",
    "    vif_df = pd.DataFrame()\n",
    "    vif_df['vif_factor'] = [variance_inflation_factor(indep_var.values,i) for i in range(indep_var.shape[1])]\n",
    "    vif_df['names'] = indep_var.columns\n",
    "    \n",
    "    return vif_df.sort_values('vif_factor',ascending=False)"
   ]
  },
  {
   "cell_type": "code",
   "execution_count": 35,
   "id": "592fa87c",
   "metadata": {},
   "outputs": [
    {
     "data": {
      "text/html": [
       "<div>\n",
       "<style scoped>\n",
       "    .dataframe tbody tr th:only-of-type {\n",
       "        vertical-align: middle;\n",
       "    }\n",
       "\n",
       "    .dataframe tbody tr th {\n",
       "        vertical-align: top;\n",
       "    }\n",
       "\n",
       "    .dataframe thead th {\n",
       "        text-align: right;\n",
       "    }\n",
       "</style>\n",
       "<table border=\"1\" class=\"dataframe\">\n",
       "  <thead>\n",
       "    <tr style=\"text-align: right;\">\n",
       "      <th></th>\n",
       "      <th>vif_factor</th>\n",
       "      <th>names</th>\n",
       "    </tr>\n",
       "  </thead>\n",
       "  <tbody>\n",
       "    <tr>\n",
       "      <th>9</th>\n",
       "      <td>18.634539</td>\n",
       "      <td>Loan_Tenure</td>\n",
       "    </tr>\n",
       "    <tr>\n",
       "      <th>1</th>\n",
       "      <td>17.306119</td>\n",
       "      <td>Age</td>\n",
       "    </tr>\n",
       "    <tr>\n",
       "      <th>8</th>\n",
       "      <td>12.606883</td>\n",
       "      <td>Amount Disbursed</td>\n",
       "    </tr>\n",
       "    <tr>\n",
       "      <th>6</th>\n",
       "      <td>8.079841</td>\n",
       "      <td>Loan_Bearer_Income</td>\n",
       "    </tr>\n",
       "    <tr>\n",
       "      <th>0</th>\n",
       "      <td>6.510158</td>\n",
       "      <td>Sex</td>\n",
       "    </tr>\n",
       "    <tr>\n",
       "      <th>10</th>\n",
       "      <td>6.455361</td>\n",
       "      <td>Credit_Score</td>\n",
       "    </tr>\n",
       "    <tr>\n",
       "      <th>2</th>\n",
       "      <td>3.865133</td>\n",
       "      <td>Married</td>\n",
       "    </tr>\n",
       "    <tr>\n",
       "      <th>11</th>\n",
       "      <td>2.655006</td>\n",
       "      <td>Location_type</td>\n",
       "    </tr>\n",
       "    <tr>\n",
       "      <th>7</th>\n",
       "      <td>2.308614</td>\n",
       "      <td>Loan_Cobearer_Income</td>\n",
       "    </tr>\n",
       "    <tr>\n",
       "      <th>3</th>\n",
       "      <td>1.825923</td>\n",
       "      <td>No. of People in the Family</td>\n",
       "    </tr>\n",
       "    <tr>\n",
       "      <th>4</th>\n",
       "      <td>1.309924</td>\n",
       "      <td>Qualification</td>\n",
       "    </tr>\n",
       "    <tr>\n",
       "      <th>5</th>\n",
       "      <td>1.198381</td>\n",
       "      <td>Self_Employed</td>\n",
       "    </tr>\n",
       "  </tbody>\n",
       "</table>\n",
       "</div>"
      ],
      "text/plain": [
       "    vif_factor                        names\n",
       "9    18.634539                  Loan_Tenure\n",
       "1    17.306119                          Age\n",
       "8    12.606883             Amount Disbursed\n",
       "6     8.079841           Loan_Bearer_Income\n",
       "0     6.510158                          Sex\n",
       "10    6.455361                 Credit_Score\n",
       "2     3.865133                      Married\n",
       "11    2.655006                Location_type\n",
       "7     2.308614         Loan_Cobearer_Income\n",
       "3     1.825923  No. of People in the Family\n",
       "4     1.309924                Qualification\n",
       "5     1.198381                Self_Employed"
      ]
     },
     "execution_count": 35,
     "metadata": {},
     "output_type": "execute_result"
    }
   ],
   "source": [
    "vif(df,'Loan_Status')"
   ]
  },
  {
   "cell_type": "markdown",
   "id": "f8adce30",
   "metadata": {},
   "source": [
    "# PCA"
   ]
  },
  {
   "cell_type": "code",
   "execution_count": 36,
   "id": "55adc487",
   "metadata": {},
   "outputs": [],
   "source": [
    "def apply_pca(x):\n",
    "    col = []\n",
    "    n_comp = len(x.columns)\n",
    "    \n",
    "    \n",
    "    x =StandardScaler().fit_transform(x)\n",
    "    \n",
    "    \n",
    "    for i in range(1,n_comp): # efining n component using for loop\n",
    "        pca = PCA(n_components = i) # transforming x\n",
    "        p_comp = pca.fit_transform(x) # doing cumiulative sum to find out total data capture\n",
    "        evr = np.cumsum(pca.explained_variance_ratio_)\n",
    "        if evr[i-1] > 0.9: # checking the data is more than 90 %\n",
    "            n_components = i # condering i value to be n compent based on evr\n",
    "            break\n",
    "    \n",
    "    print(\"The explined variance ratio is\",evr)\n",
    "    \n",
    "    #creating data farme with PCA transfrom data\n",
    "    \n",
    "    for j in range(1,n_components + 1):\n",
    "        col.append(\"pc_\"+ str(j))\n",
    "        \n",
    "    result = pd.DataFrame(data = p_comp,columns=col)\n",
    "        \n",
    "        \n",
    "    return(result)"
   ]
  },
  {
   "cell_type": "code",
   "execution_count": 37,
   "id": "98dffbaf",
   "metadata": {},
   "outputs": [
    {
     "name": "stdout",
     "output_type": "stream",
     "text": [
      "The explined variance ratio is [0.15658331 0.27983719 0.38600268 0.47758656 0.56394835 0.64569584\n",
      " 0.72367506 0.79528565 0.86153342 0.92148276]\n"
     ]
    }
   ],
   "source": [
    "pca_df = apply_pca(df.drop(\"Loan_Status\",axis = 1))"
   ]
  },
  {
   "cell_type": "code",
   "execution_count": 38,
   "id": "5425af00",
   "metadata": {},
   "outputs": [],
   "source": [
    "pca_df = pca_df.join(df[['Loan_Status']],how='left')\n"
   ]
  },
  {
   "cell_type": "code",
   "execution_count": 39,
   "id": "cd3e04ed",
   "metadata": {},
   "outputs": [
    {
     "data": {
      "text/html": [
       "<div>\n",
       "<style scoped>\n",
       "    .dataframe tbody tr th:only-of-type {\n",
       "        vertical-align: middle;\n",
       "    }\n",
       "\n",
       "    .dataframe tbody tr th {\n",
       "        vertical-align: top;\n",
       "    }\n",
       "\n",
       "    .dataframe thead th {\n",
       "        text-align: right;\n",
       "    }\n",
       "</style>\n",
       "<table border=\"1\" class=\"dataframe\">\n",
       "  <thead>\n",
       "    <tr style=\"text-align: right;\">\n",
       "      <th></th>\n",
       "      <th>pc_1</th>\n",
       "      <th>pc_2</th>\n",
       "      <th>pc_3</th>\n",
       "      <th>pc_4</th>\n",
       "      <th>pc_5</th>\n",
       "      <th>pc_6</th>\n",
       "      <th>pc_7</th>\n",
       "      <th>pc_8</th>\n",
       "      <th>pc_9</th>\n",
       "      <th>pc_10</th>\n",
       "      <th>Loan_Status</th>\n",
       "    </tr>\n",
       "  </thead>\n",
       "  <tbody>\n",
       "    <tr>\n",
       "      <th>0</th>\n",
       "      <td>-1.045419</td>\n",
       "      <td>1.112459</td>\n",
       "      <td>0.331157</td>\n",
       "      <td>-1.228497</td>\n",
       "      <td>0.142848</td>\n",
       "      <td>0.181268</td>\n",
       "      <td>-0.221694</td>\n",
       "      <td>0.409233</td>\n",
       "      <td>1.016994</td>\n",
       "      <td>-1.189447</td>\n",
       "      <td>1</td>\n",
       "    </tr>\n",
       "    <tr>\n",
       "      <th>1</th>\n",
       "      <td>0.917997</td>\n",
       "      <td>0.052284</td>\n",
       "      <td>-0.622143</td>\n",
       "      <td>0.119441</td>\n",
       "      <td>0.153095</td>\n",
       "      <td>-0.505424</td>\n",
       "      <td>-1.062381</td>\n",
       "      <td>-0.053571</td>\n",
       "      <td>-0.782130</td>\n",
       "      <td>-0.534803</td>\n",
       "      <td>0</td>\n",
       "    </tr>\n",
       "    <tr>\n",
       "      <th>2</th>\n",
       "      <td>-0.479131</td>\n",
       "      <td>0.139624</td>\n",
       "      <td>1.100775</td>\n",
       "      <td>-0.934708</td>\n",
       "      <td>-0.082200</td>\n",
       "      <td>-0.468724</td>\n",
       "      <td>1.448840</td>\n",
       "      <td>-2.342982</td>\n",
       "      <td>0.018120</td>\n",
       "      <td>-1.689125</td>\n",
       "      <td>1</td>\n",
       "    </tr>\n",
       "    <tr>\n",
       "      <th>3</th>\n",
       "      <td>-0.098942</td>\n",
       "      <td>-1.836279</td>\n",
       "      <td>-0.275684</td>\n",
       "      <td>-0.245806</td>\n",
       "      <td>0.354188</td>\n",
       "      <td>-0.396449</td>\n",
       "      <td>0.146564</td>\n",
       "      <td>-0.553412</td>\n",
       "      <td>2.018500</td>\n",
       "      <td>0.046823</td>\n",
       "      <td>1</td>\n",
       "    </tr>\n",
       "    <tr>\n",
       "      <th>4</th>\n",
       "      <td>-0.779669</td>\n",
       "      <td>1.335958</td>\n",
       "      <td>0.135444</td>\n",
       "      <td>-0.818849</td>\n",
       "      <td>-1.314747</td>\n",
       "      <td>0.794423</td>\n",
       "      <td>0.199840</td>\n",
       "      <td>1.005420</td>\n",
       "      <td>1.050974</td>\n",
       "      <td>-0.476676</td>\n",
       "      <td>1</td>\n",
       "    </tr>\n",
       "    <tr>\n",
       "      <th>...</th>\n",
       "      <td>...</td>\n",
       "      <td>...</td>\n",
       "      <td>...</td>\n",
       "      <td>...</td>\n",
       "      <td>...</td>\n",
       "      <td>...</td>\n",
       "      <td>...</td>\n",
       "      <td>...</td>\n",
       "      <td>...</td>\n",
       "      <td>...</td>\n",
       "      <td>...</td>\n",
       "    </tr>\n",
       "    <tr>\n",
       "      <th>609</th>\n",
       "      <td>-2.763363</td>\n",
       "      <td>0.820721</td>\n",
       "      <td>-0.354596</td>\n",
       "      <td>0.149127</td>\n",
       "      <td>1.138277</td>\n",
       "      <td>-1.118097</td>\n",
       "      <td>-1.079622</td>\n",
       "      <td>-0.312538</td>\n",
       "      <td>-1.226690</td>\n",
       "      <td>0.047379</td>\n",
       "      <td>1</td>\n",
       "    </tr>\n",
       "    <tr>\n",
       "      <th>610</th>\n",
       "      <td>0.717952</td>\n",
       "      <td>-1.140078</td>\n",
       "      <td>2.571694</td>\n",
       "      <td>-0.334171</td>\n",
       "      <td>0.275207</td>\n",
       "      <td>-1.439508</td>\n",
       "      <td>-1.280635</td>\n",
       "      <td>0.663518</td>\n",
       "      <td>-2.507043</td>\n",
       "      <td>-0.543907</td>\n",
       "      <td>1</td>\n",
       "    </tr>\n",
       "    <tr>\n",
       "      <th>611</th>\n",
       "      <td>2.199210</td>\n",
       "      <td>2.118323</td>\n",
       "      <td>0.123501</td>\n",
       "      <td>-1.164529</td>\n",
       "      <td>-0.166631</td>\n",
       "      <td>1.021634</td>\n",
       "      <td>-0.416524</td>\n",
       "      <td>0.793360</td>\n",
       "      <td>1.616057</td>\n",
       "      <td>0.582838</td>\n",
       "      <td>1</td>\n",
       "    </tr>\n",
       "    <tr>\n",
       "      <th>612</th>\n",
       "      <td>1.734370</td>\n",
       "      <td>1.371042</td>\n",
       "      <td>1.009046</td>\n",
       "      <td>-0.946659</td>\n",
       "      <td>-1.157767</td>\n",
       "      <td>1.362064</td>\n",
       "      <td>-0.701922</td>\n",
       "      <td>0.486523</td>\n",
       "      <td>0.755301</td>\n",
       "      <td>0.567980</td>\n",
       "      <td>1</td>\n",
       "    </tr>\n",
       "    <tr>\n",
       "      <th>613</th>\n",
       "      <td>-1.700361</td>\n",
       "      <td>2.307739</td>\n",
       "      <td>0.686601</td>\n",
       "      <td>1.469739</td>\n",
       "      <td>1.612003</td>\n",
       "      <td>0.888692</td>\n",
       "      <td>2.210779</td>\n",
       "      <td>-0.888699</td>\n",
       "      <td>-0.789922</td>\n",
       "      <td>0.192291</td>\n",
       "      <td>0</td>\n",
       "    </tr>\n",
       "  </tbody>\n",
       "</table>\n",
       "<p>614 rows × 11 columns</p>\n",
       "</div>"
      ],
      "text/plain": [
       "         pc_1      pc_2      pc_3      pc_4      pc_5      pc_6      pc_7  \\\n",
       "0   -1.045419  1.112459  0.331157 -1.228497  0.142848  0.181268 -0.221694   \n",
       "1    0.917997  0.052284 -0.622143  0.119441  0.153095 -0.505424 -1.062381   \n",
       "2   -0.479131  0.139624  1.100775 -0.934708 -0.082200 -0.468724  1.448840   \n",
       "3   -0.098942 -1.836279 -0.275684 -0.245806  0.354188 -0.396449  0.146564   \n",
       "4   -0.779669  1.335958  0.135444 -0.818849 -1.314747  0.794423  0.199840   \n",
       "..        ...       ...       ...       ...       ...       ...       ...   \n",
       "609 -2.763363  0.820721 -0.354596  0.149127  1.138277 -1.118097 -1.079622   \n",
       "610  0.717952 -1.140078  2.571694 -0.334171  0.275207 -1.439508 -1.280635   \n",
       "611  2.199210  2.118323  0.123501 -1.164529 -0.166631  1.021634 -0.416524   \n",
       "612  1.734370  1.371042  1.009046 -0.946659 -1.157767  1.362064 -0.701922   \n",
       "613 -1.700361  2.307739  0.686601  1.469739  1.612003  0.888692  2.210779   \n",
       "\n",
       "         pc_8      pc_9     pc_10  Loan_Status  \n",
       "0    0.409233  1.016994 -1.189447            1  \n",
       "1   -0.053571 -0.782130 -0.534803            0  \n",
       "2   -2.342982  0.018120 -1.689125            1  \n",
       "3   -0.553412  2.018500  0.046823            1  \n",
       "4    1.005420  1.050974 -0.476676            1  \n",
       "..        ...       ...       ...          ...  \n",
       "609 -0.312538 -1.226690  0.047379            1  \n",
       "610  0.663518 -2.507043 -0.543907            1  \n",
       "611  0.793360  1.616057  0.582838            1  \n",
       "612  0.486523  0.755301  0.567980            1  \n",
       "613 -0.888699 -0.789922  0.192291            0  \n",
       "\n",
       "[614 rows x 11 columns]"
      ]
     },
     "execution_count": 39,
     "metadata": {},
     "output_type": "execute_result"
    }
   ],
   "source": [
    "pca_df"
   ]
  },
  {
   "cell_type": "code",
   "execution_count": 40,
   "id": "5cac1f6e",
   "metadata": {},
   "outputs": [
    {
     "data": {
      "text/html": [
       "<div>\n",
       "<style scoped>\n",
       "    .dataframe tbody tr th:only-of-type {\n",
       "        vertical-align: middle;\n",
       "    }\n",
       "\n",
       "    .dataframe tbody tr th {\n",
       "        vertical-align: top;\n",
       "    }\n",
       "\n",
       "    .dataframe thead th {\n",
       "        text-align: right;\n",
       "    }\n",
       "</style>\n",
       "<table border=\"1\" class=\"dataframe\">\n",
       "  <thead>\n",
       "    <tr style=\"text-align: right;\">\n",
       "      <th></th>\n",
       "      <th>vif_factor</th>\n",
       "      <th>names</th>\n",
       "    </tr>\n",
       "  </thead>\n",
       "  <tbody>\n",
       "    <tr>\n",
       "      <th>4</th>\n",
       "      <td>1.0</td>\n",
       "      <td>pc_5</td>\n",
       "    </tr>\n",
       "    <tr>\n",
       "      <th>0</th>\n",
       "      <td>1.0</td>\n",
       "      <td>pc_1</td>\n",
       "    </tr>\n",
       "    <tr>\n",
       "      <th>1</th>\n",
       "      <td>1.0</td>\n",
       "      <td>pc_2</td>\n",
       "    </tr>\n",
       "    <tr>\n",
       "      <th>3</th>\n",
       "      <td>1.0</td>\n",
       "      <td>pc_4</td>\n",
       "    </tr>\n",
       "    <tr>\n",
       "      <th>5</th>\n",
       "      <td>1.0</td>\n",
       "      <td>pc_6</td>\n",
       "    </tr>\n",
       "    <tr>\n",
       "      <th>6</th>\n",
       "      <td>1.0</td>\n",
       "      <td>pc_7</td>\n",
       "    </tr>\n",
       "    <tr>\n",
       "      <th>7</th>\n",
       "      <td>1.0</td>\n",
       "      <td>pc_8</td>\n",
       "    </tr>\n",
       "    <tr>\n",
       "      <th>8</th>\n",
       "      <td>1.0</td>\n",
       "      <td>pc_9</td>\n",
       "    </tr>\n",
       "    <tr>\n",
       "      <th>2</th>\n",
       "      <td>1.0</td>\n",
       "      <td>pc_3</td>\n",
       "    </tr>\n",
       "    <tr>\n",
       "      <th>9</th>\n",
       "      <td>1.0</td>\n",
       "      <td>pc_10</td>\n",
       "    </tr>\n",
       "  </tbody>\n",
       "</table>\n",
       "</div>"
      ],
      "text/plain": [
       "   vif_factor  names\n",
       "4         1.0   pc_5\n",
       "0         1.0   pc_1\n",
       "1         1.0   pc_2\n",
       "3         1.0   pc_4\n",
       "5         1.0   pc_6\n",
       "6         1.0   pc_7\n",
       "7         1.0   pc_8\n",
       "8         1.0   pc_9\n",
       "2         1.0   pc_3\n",
       "9         1.0  pc_10"
      ]
     },
     "execution_count": 40,
     "metadata": {},
     "output_type": "execute_result"
    }
   ],
   "source": [
    "vif(pca_df,'Loan_Status')"
   ]
  },
  {
   "cell_type": "code",
   "execution_count": 41,
   "id": "f906bb97",
   "metadata": {},
   "outputs": [],
   "source": [
    "def train_and_test_split(df,target,testSize=0.3):\n",
    "    x = df.drop(target,axis = 1)\n",
    "    y = df[[target]]\n",
    "    \n",
    "    return(train_test_split(x,y,test_size=testSize, random_state= 0))"
   ]
  },
  {
   "cell_type": "code",
   "execution_count": 42,
   "id": "c7707586",
   "metadata": {},
   "outputs": [],
   "source": [
    "def build_model(model_name, estimetor, data, target):\n",
    "    x_train, x_test ,y_train, y_test = train_and_test_split(data,target)\n",
    "    estimetor.fit(x_train,y_train)\n",
    "    y_pred = estimetor.predict(x_test)\n",
    "\n",
    "    Accuracy = accuracy_score(y_test,y_pred)\n",
    "    \n",
    "    temp = [model_name,Accuracy]\n",
    "    \n",
    "    return(temp)\n",
    "\n"
   ]
  },
  {
   "cell_type": "code",
   "execution_count": 43,
   "id": "4a85d072",
   "metadata": {},
   "outputs": [
    {
     "data": {
      "text/plain": [
       "['logistic regression', 0.8216216216216217]"
      ]
     },
     "execution_count": 43,
     "metadata": {},
     "output_type": "execute_result"
    }
   ],
   "source": [
    "build_model(\"logistic regression\",LogisticRegression(),pca_df,\"Loan_Status\")"
   ]
  },
  {
   "cell_type": "code",
   "execution_count": 44,
   "id": "efdf40d8",
   "metadata": {},
   "outputs": [],
   "source": [
    "def muliple_model(data, target):\n",
    "    col_names = [\"Model names\",\"Accuracy\"]\n",
    "    \n",
    "    result_df = pd.DataFrame(columns= col_names)\n",
    "    \n",
    "    result_df.loc[len(result_df)] = build_model(\"logistic regression\",LogisticRegression(),data,target)\n",
    "    \n",
    "    result_df.loc[len(result_df)] = build_model(\"Ridge\",RidgeClassifier(),data,target)\n",
    "        \n",
    "    result_df.loc[len(result_df)] = build_model(\"Decision tree\",DecisionTreeClassifier(),data,target)\n",
    "    \n",
    "    result_df.loc[len(result_df)] = build_model(\"KNN\",KNeighborsClassifier(),data,target)\n",
    "    \n",
    "    result_df.loc[len(result_df)] = build_model(\"SVM\",SVC(),data,target)\n",
    "\n",
    "    result_df.loc[len(result_df)] = build_model(\"Random forest\",RandomForestClassifier(),data,target)\n",
    "    \n",
    "    result_df.loc[len(result_df)] = build_model(\"Adaboost\",AdaBoostClassifier(),data,target)\n",
    "    \n",
    "    result_df.loc[len(result_df)] = build_model(\"Gradient boost\",GradientBoostingClassifier(),data,target)\n",
    "    \n",
    "    result_df.loc[len(result_df)] = build_model(\"XGBoost\",XGBClassifier(),data,target)\n",
    "    \n",
    "    return(result_df.sort_values('Accuracy',ascending=False))\n",
    "    "
   ]
  },
  {
   "cell_type": "code",
   "execution_count": 45,
   "id": "c7f3c38c",
   "metadata": {},
   "outputs": [
    {
     "name": "stdout",
     "output_type": "stream",
     "text": [
      "[19:10:03] WARNING: C:/Users/Administrator/workspace/xgboost-win64_release_1.5.1/src/learner.cc:1115: Starting in XGBoost 1.3.0, the default evaluation metric used with the objective 'binary:logistic' was changed from 'error' to 'logloss'. Explicitly set eval_metric if you'd like to restore the old behavior.\n"
     ]
    },
    {
     "data": {
      "text/html": [
       "<div>\n",
       "<style scoped>\n",
       "    .dataframe tbody tr th:only-of-type {\n",
       "        vertical-align: middle;\n",
       "    }\n",
       "\n",
       "    .dataframe tbody tr th {\n",
       "        vertical-align: top;\n",
       "    }\n",
       "\n",
       "    .dataframe thead th {\n",
       "        text-align: right;\n",
       "    }\n",
       "</style>\n",
       "<table border=\"1\" class=\"dataframe\">\n",
       "  <thead>\n",
       "    <tr style=\"text-align: right;\">\n",
       "      <th></th>\n",
       "      <th>Model names</th>\n",
       "      <th>Accuracy</th>\n",
       "    </tr>\n",
       "  </thead>\n",
       "  <tbody>\n",
       "    <tr>\n",
       "      <th>1</th>\n",
       "      <td>Ridge</td>\n",
       "      <td>0.827027</td>\n",
       "    </tr>\n",
       "    <tr>\n",
       "      <th>4</th>\n",
       "      <td>SVM</td>\n",
       "      <td>0.827027</td>\n",
       "    </tr>\n",
       "    <tr>\n",
       "      <th>0</th>\n",
       "      <td>logistic regression</td>\n",
       "      <td>0.821622</td>\n",
       "    </tr>\n",
       "    <tr>\n",
       "      <th>3</th>\n",
       "      <td>KNN</td>\n",
       "      <td>0.810811</td>\n",
       "    </tr>\n",
       "    <tr>\n",
       "      <th>5</th>\n",
       "      <td>Random forest</td>\n",
       "      <td>0.800000</td>\n",
       "    </tr>\n",
       "    <tr>\n",
       "      <th>7</th>\n",
       "      <td>Gradient boost</td>\n",
       "      <td>0.794595</td>\n",
       "    </tr>\n",
       "    <tr>\n",
       "      <th>6</th>\n",
       "      <td>Adaboost</td>\n",
       "      <td>0.789189</td>\n",
       "    </tr>\n",
       "    <tr>\n",
       "      <th>8</th>\n",
       "      <td>XGBoost</td>\n",
       "      <td>0.789189</td>\n",
       "    </tr>\n",
       "    <tr>\n",
       "      <th>2</th>\n",
       "      <td>Decision tree</td>\n",
       "      <td>0.708108</td>\n",
       "    </tr>\n",
       "  </tbody>\n",
       "</table>\n",
       "</div>"
      ],
      "text/plain": [
       "           Model names  Accuracy\n",
       "1                Ridge  0.827027\n",
       "4                  SVM  0.827027\n",
       "0  logistic regression  0.821622\n",
       "3                  KNN  0.810811\n",
       "5        Random forest  0.800000\n",
       "7       Gradient boost  0.794595\n",
       "6             Adaboost  0.789189\n",
       "8              XGBoost  0.789189\n",
       "2        Decision tree  0.708108"
      ]
     },
     "execution_count": 45,
     "metadata": {},
     "output_type": "execute_result"
    }
   ],
   "source": [
    "muliple_model(pca_df,\"Loan_Status\")"
   ]
  },
  {
   "cell_type": "code",
   "execution_count": 46,
   "id": "178e5f8f",
   "metadata": {},
   "outputs": [],
   "source": [
    "# the models that has to be taken futher are SVM, logistic Regression , KNN , Random forest , Gradient boosting"
   ]
  },
  {
   "cell_type": "code",
   "execution_count": 47,
   "id": "be7dbc18",
   "metadata": {},
   "outputs": [],
   "source": [
    "def cv_score(x,y,fold=10):\n",
    "    \n",
    "    # fitting cross validation for all models\n",
    "    score_lr= cross_val_score(LogisticRegression(),x,y,cv=fold)\n",
    "    score_rd= cross_val_score(RidgeClassifier(),x,y,cv=fold)\n",
    "    score_dt= cross_val_score(DecisionTreeClassifier(),x,y,cv=fold)\n",
    "    score_knn= cross_val_score(KNeighborsClassifier(),x,y,cv=fold)\n",
    "    score_svr= cross_val_score(SVC(),x,y,cv=fold)\n",
    "    score_rf= cross_val_score(RandomForestClassifier(),x,y,cv=fold)\n",
    "    score_Ada= cross_val_score(AdaBoostClassifier(),x,y,cv=fold)\n",
    "    score_gr= cross_val_score(GradientBoostingClassifier(),x,y,cv=fold)\n",
    "    score_xgb= cross_val_score(XGBClassifier(),x,y,cv=fold)\n",
    "    \n",
    "    model_names =['Logistic Regression','Ridge Classifier','Decission Tree','KNN',\"SVC\",'RAndon forest','Ada boost','Gradient boost','Xgboost']\n",
    "    scores = [score_lr,score_rd,score_dt,score_knn,score_svr,score_rf,score_Ada,score_gr,score_xgb]\n",
    "    \n",
    "    result= []\n",
    "    \n",
    "    for i in range(0,len(model_names)):\n",
    "        score_mean = np.mean(scores[i])\n",
    "        score_std = np.std(scores[i])\n",
    "        estimator = model_names[i]\n",
    "        temp = [estimator,score_std,score_mean]\n",
    "        result.append(temp)\n",
    "        \n",
    "    results = pd.DataFrame(data= result,columns=['model_names','score_std','score_mean'])\n",
    "    \n",
    "    return results.sort_values('score_mean',ascending=False)\n",
    "        "
   ]
  },
  {
   "cell_type": "code",
   "execution_count": 48,
   "id": "1c187927",
   "metadata": {},
   "outputs": [
    {
     "name": "stdout",
     "output_type": "stream",
     "text": [
      "[19:10:13] WARNING: C:/Users/Administrator/workspace/xgboost-win64_release_1.5.1/src/learner.cc:1115: Starting in XGBoost 1.3.0, the default evaluation metric used with the objective 'binary:logistic' was changed from 'error' to 'logloss'. Explicitly set eval_metric if you'd like to restore the old behavior.\n",
      "[19:10:13] WARNING: C:/Users/Administrator/workspace/xgboost-win64_release_1.5.1/src/learner.cc:1115: Starting in XGBoost 1.3.0, the default evaluation metric used with the objective 'binary:logistic' was changed from 'error' to 'logloss'. Explicitly set eval_metric if you'd like to restore the old behavior.\n",
      "[19:10:14] WARNING: C:/Users/Administrator/workspace/xgboost-win64_release_1.5.1/src/learner.cc:1115: Starting in XGBoost 1.3.0, the default evaluation metric used with the objective 'binary:logistic' was changed from 'error' to 'logloss'. Explicitly set eval_metric if you'd like to restore the old behavior.\n",
      "[19:10:14] WARNING: C:/Users/Administrator/workspace/xgboost-win64_release_1.5.1/src/learner.cc:1115: Starting in XGBoost 1.3.0, the default evaluation metric used with the objective 'binary:logistic' was changed from 'error' to 'logloss'. Explicitly set eval_metric if you'd like to restore the old behavior.\n",
      "[19:10:14] WARNING: C:/Users/Administrator/workspace/xgboost-win64_release_1.5.1/src/learner.cc:1115: Starting in XGBoost 1.3.0, the default evaluation metric used with the objective 'binary:logistic' was changed from 'error' to 'logloss'. Explicitly set eval_metric if you'd like to restore the old behavior.\n",
      "[19:10:14] WARNING: C:/Users/Administrator/workspace/xgboost-win64_release_1.5.1/src/learner.cc:1115: Starting in XGBoost 1.3.0, the default evaluation metric used with the objective 'binary:logistic' was changed from 'error' to 'logloss'. Explicitly set eval_metric if you'd like to restore the old behavior.\n",
      "[19:10:15] WARNING: C:/Users/Administrator/workspace/xgboost-win64_release_1.5.1/src/learner.cc:1115: Starting in XGBoost 1.3.0, the default evaluation metric used with the objective 'binary:logistic' was changed from 'error' to 'logloss'. Explicitly set eval_metric if you'd like to restore the old behavior.\n",
      "[19:10:15] WARNING: C:/Users/Administrator/workspace/xgboost-win64_release_1.5.1/src/learner.cc:1115: Starting in XGBoost 1.3.0, the default evaluation metric used with the objective 'binary:logistic' was changed from 'error' to 'logloss'. Explicitly set eval_metric if you'd like to restore the old behavior.\n",
      "[19:10:15] WARNING: C:/Users/Administrator/workspace/xgboost-win64_release_1.5.1/src/learner.cc:1115: Starting in XGBoost 1.3.0, the default evaluation metric used with the objective 'binary:logistic' was changed from 'error' to 'logloss'. Explicitly set eval_metric if you'd like to restore the old behavior.\n",
      "[19:10:15] WARNING: C:/Users/Administrator/workspace/xgboost-win64_release_1.5.1/src/learner.cc:1115: Starting in XGBoost 1.3.0, the default evaluation metric used with the objective 'binary:logistic' was changed from 'error' to 'logloss'. Explicitly set eval_metric if you'd like to restore the old behavior.\n"
     ]
    },
    {
     "data": {
      "text/html": [
       "<div>\n",
       "<style scoped>\n",
       "    .dataframe tbody tr th:only-of-type {\n",
       "        vertical-align: middle;\n",
       "    }\n",
       "\n",
       "    .dataframe tbody tr th {\n",
       "        vertical-align: top;\n",
       "    }\n",
       "\n",
       "    .dataframe thead th {\n",
       "        text-align: right;\n",
       "    }\n",
       "</style>\n",
       "<table border=\"1\" class=\"dataframe\">\n",
       "  <thead>\n",
       "    <tr style=\"text-align: right;\">\n",
       "      <th></th>\n",
       "      <th>model_names</th>\n",
       "      <th>score_std</th>\n",
       "      <th>score_mean</th>\n",
       "    </tr>\n",
       "  </thead>\n",
       "  <tbody>\n",
       "    <tr>\n",
       "      <th>0</th>\n",
       "      <td>Logistic Regression</td>\n",
       "      <td>0.033478</td>\n",
       "      <td>0.809572</td>\n",
       "    </tr>\n",
       "    <tr>\n",
       "      <th>1</th>\n",
       "      <td>Ridge Classifier</td>\n",
       "      <td>0.033478</td>\n",
       "      <td>0.809572</td>\n",
       "    </tr>\n",
       "    <tr>\n",
       "      <th>4</th>\n",
       "      <td>SVC</td>\n",
       "      <td>0.033478</td>\n",
       "      <td>0.809572</td>\n",
       "    </tr>\n",
       "    <tr>\n",
       "      <th>3</th>\n",
       "      <td>KNN</td>\n",
       "      <td>0.049533</td>\n",
       "      <td>0.781967</td>\n",
       "    </tr>\n",
       "    <tr>\n",
       "      <th>7</th>\n",
       "      <td>Gradient boost</td>\n",
       "      <td>0.055307</td>\n",
       "      <td>0.767134</td>\n",
       "    </tr>\n",
       "    <tr>\n",
       "      <th>5</th>\n",
       "      <td>RAndon forest</td>\n",
       "      <td>0.059186</td>\n",
       "      <td>0.763855</td>\n",
       "    </tr>\n",
       "    <tr>\n",
       "      <th>8</th>\n",
       "      <td>Xgboost</td>\n",
       "      <td>0.052367</td>\n",
       "      <td>0.752327</td>\n",
       "    </tr>\n",
       "    <tr>\n",
       "      <th>6</th>\n",
       "      <td>Ada boost</td>\n",
       "      <td>0.068412</td>\n",
       "      <td>0.734532</td>\n",
       "    </tr>\n",
       "    <tr>\n",
       "      <th>2</th>\n",
       "      <td>Decission Tree</td>\n",
       "      <td>0.061176</td>\n",
       "      <td>0.672660</td>\n",
       "    </tr>\n",
       "  </tbody>\n",
       "</table>\n",
       "</div>"
      ],
      "text/plain": [
       "           model_names  score_std  score_mean\n",
       "0  Logistic Regression   0.033478    0.809572\n",
       "1     Ridge Classifier   0.033478    0.809572\n",
       "4                  SVC   0.033478    0.809572\n",
       "3                  KNN   0.049533    0.781967\n",
       "7       Gradient boost   0.055307    0.767134\n",
       "5        RAndon forest   0.059186    0.763855\n",
       "8              Xgboost   0.052367    0.752327\n",
       "6            Ada boost   0.068412    0.734532\n",
       "2       Decission Tree   0.061176    0.672660"
      ]
     },
     "execution_count": 48,
     "metadata": {},
     "output_type": "execute_result"
    }
   ],
   "source": [
    "cv_score(pca_df.drop('Loan_Status',axis=1),pca_df[['Loan_Status']])"
   ]
  },
  {
   "cell_type": "code",
   "execution_count": 49,
   "id": "832dfd8d",
   "metadata": {},
   "outputs": [],
   "source": [
    "def hyper_tuning(x,y,fold=10):\n",
    "    \n",
    "    # param_ensemble= {'learning_rate':[0.1,0.2,0.3,0.4,0.5,0.6,0.7,0.8,0.9,1],'n_estimators':[10,20,30,40,50,60,70,80,90,100]}\n",
    "    param_knn = {'n_neighbors':[1,2,3,4,5,6,7,8,9,10,11,12,13,14,15,16,17,18,19,20,21,22,23,24,25,26,27,28,29,30]}\n",
    "    param_rf = {'max_depth':[8,9,10,11,12],'n_estimators':[10,20,30,40,50,60,70,80,90,100]}\n",
    "    param_lr = {'solver':['newton-cg', 'lbfgs', 'liblinear'],'penalty':['l2'],'C':[100, 10, 1.0, 0.1, 0.01]}\n",
    "    param_rd = {'alpha':[0.1, 0.2, 0.3, 0.4, 0.5, 0.6, 0.7, 0.8, 0.9, 1.0]}\n",
    "    param_sv = {'kernel':['poly', 'rbf', 'sigmoid'],'C':[50, 10, 1.0, 0.1, 0.01],'gamma':['scale']}\n",
    "    \n",
    "    \n",
    "    tune_lr = GridSearchCV(LogisticRegression(),param_lr,cv=fold)\n",
    "    tune_rd = GridSearchCV(RidgeClassifier(),param_rd,cv=fold)\n",
    "    tune_sv = GridSearchCV(SVC(),param_sv,cv=fold)\n",
    "    tune_rf = GridSearchCV(RandomForestClassifier(),param_rf,cv=fold)\n",
    "    tune_kn = GridSearchCV(KNeighborsClassifier(),param_knn,cv=fold)\n",
    "    \n",
    "    tune_lr.fit(x,y)\n",
    "    tune_rd.fit(x,y)\n",
    "    tune_sv.fit(x,y)\n",
    "    tune_rf.fit(x,y)\n",
    "    tune_kn.fit(x,y)\n",
    "    \n",
    "    tune=[tune_lr,tune_rd,tune_sv,tune_rf,tune_kn]\n",
    "    models=['Logistic Regression','Ridge Classifier','SVC','Random Forest','KNN']\n",
    "    \n",
    "    for i in range(0,len(tune)):\n",
    "        print('model',models[i])\n",
    "        print('Best parameters',tune[i].best_params_)\n",
    "    "
   ]
  },
  {
   "cell_type": "code",
   "execution_count": 50,
   "id": "f5c87967",
   "metadata": {},
   "outputs": [
    {
     "name": "stdout",
     "output_type": "stream",
     "text": [
      "model Logistic Regression\n",
      "Best parameters {'C': 100, 'penalty': 'l2', 'solver': 'newton-cg'}\n",
      "model Ridge Classifier\n",
      "Best parameters {'alpha': 0.1}\n",
      "model SVC\n",
      "Best parameters {'C': 1.0, 'gamma': 'scale', 'kernel': 'rbf'}\n",
      "model Random Forest\n",
      "Best parameters {'max_depth': 8, 'n_estimators': 70}\n",
      "model KNN\n",
      "Best parameters {'n_neighbors': 14}\n"
     ]
    }
   ],
   "source": [
    "hyper_tuning(pca_df.drop('Loan_Status',axis=1),pca_df[['Loan_Status']])"
   ]
  },
  {
   "cell_type": "code",
   "execution_count": 51,
   "id": "34aa6747",
   "metadata": {},
   "outputs": [],
   "source": [
    "def cv_score_tune(x,y,fold=10):\n",
    "    \n",
    "    # fitting cross validation for all models\n",
    "    score_lr= cross_val_score(LogisticRegression(C=100,penalty='l2',solver= 'newton-cg'),x,y,cv=fold)\n",
    "    score_knn= cross_val_score(KNeighborsClassifier(n_neighbors=14),x,y,cv=fold)\n",
    "    score_rf= cross_val_score(RandomForestClassifier(max_depth = 8, n_estimators= 50),x,y,cv=fold)\n",
    "    score_sv= cross_val_score(SVC(C = 1.0,gamma ='scale', kernel= 'rbf'),x,y,cv=fold)\n",
    "    score_rd= cross_val_score(RidgeClassifier(alpha = 0.1),x,y,cv=fold)\n",
    "    \n",
    "    model_names =['Logistic Regression','KNN','Randon forest','SVC','Ridge Classifier']\n",
    "    scores = [score_lr,score_knn,score_rf,score_sv,score_rd]\n",
    "    \n",
    "    result= []\n",
    "    \n",
    "    for i in range(0,len(model_names)):\n",
    "        score_mean = np.mean(scores[i])\n",
    "        score_std = np.std(scores[i])\n",
    "        estimator = model_names[i]\n",
    "        temp = [estimator,score_std,score_mean]\n",
    "        result.append(temp)\n",
    "        \n",
    "    results = pd.DataFrame(data= result,columns=['model_names','score_std','score_mean'])\n",
    "    \n",
    "    return results.sort_values('score_mean',ascending=False)\n",
    "        "
   ]
  },
  {
   "cell_type": "code",
   "execution_count": 52,
   "id": "43742f58",
   "metadata": {},
   "outputs": [
    {
     "data": {
      "text/html": [
       "<div>\n",
       "<style scoped>\n",
       "    .dataframe tbody tr th:only-of-type {\n",
       "        vertical-align: middle;\n",
       "    }\n",
       "\n",
       "    .dataframe tbody tr th {\n",
       "        vertical-align: top;\n",
       "    }\n",
       "\n",
       "    .dataframe thead th {\n",
       "        text-align: right;\n",
       "    }\n",
       "</style>\n",
       "<table border=\"1\" class=\"dataframe\">\n",
       "  <thead>\n",
       "    <tr style=\"text-align: right;\">\n",
       "      <th></th>\n",
       "      <th>model_names</th>\n",
       "      <th>score_std</th>\n",
       "      <th>score_mean</th>\n",
       "    </tr>\n",
       "  </thead>\n",
       "  <tbody>\n",
       "    <tr>\n",
       "      <th>0</th>\n",
       "      <td>Logistic Regression</td>\n",
       "      <td>0.033478</td>\n",
       "      <td>0.809572</td>\n",
       "    </tr>\n",
       "    <tr>\n",
       "      <th>3</th>\n",
       "      <td>SVC</td>\n",
       "      <td>0.033478</td>\n",
       "      <td>0.809572</td>\n",
       "    </tr>\n",
       "    <tr>\n",
       "      <th>4</th>\n",
       "      <td>Ridge Classifier</td>\n",
       "      <td>0.033478</td>\n",
       "      <td>0.809572</td>\n",
       "    </tr>\n",
       "    <tr>\n",
       "      <th>1</th>\n",
       "      <td>KNN</td>\n",
       "      <td>0.032529</td>\n",
       "      <td>0.807932</td>\n",
       "    </tr>\n",
       "    <tr>\n",
       "      <th>2</th>\n",
       "      <td>Randon forest</td>\n",
       "      <td>0.051088</td>\n",
       "      <td>0.783369</td>\n",
       "    </tr>\n",
       "  </tbody>\n",
       "</table>\n",
       "</div>"
      ],
      "text/plain": [
       "           model_names  score_std  score_mean\n",
       "0  Logistic Regression   0.033478    0.809572\n",
       "3                  SVC   0.033478    0.809572\n",
       "4     Ridge Classifier   0.033478    0.809572\n",
       "1                  KNN   0.032529    0.807932\n",
       "2        Randon forest   0.051088    0.783369"
      ]
     },
     "execution_count": 52,
     "metadata": {},
     "output_type": "execute_result"
    }
   ],
   "source": [
    "cv_score_tune(pca_df.drop('Loan_Status',axis=1),pca_df[['Loan_Status']])"
   ]
  },
  {
   "cell_type": "code",
   "execution_count": 53,
   "id": "06f97d06",
   "metadata": {},
   "outputs": [],
   "source": [
    "# Learning curve analysis"
   ]
  },
  {
   "cell_type": "code",
   "execution_count": 54,
   "id": "0c51fda8",
   "metadata": {},
   "outputs": [],
   "source": [
    "def learning_curve_analysis(model_name,estimator,x,y):\n",
    "    \n",
    "    \n",
    "    train_size,train_score,test_score = learning_curve(estimator,X= x ,y= y,cv=10)\n",
    "    train_score_mean = np.mean(train_score,axis = 1)\n",
    "    test_score_mean = np.mean(test_score,axis = 1)\n",
    "    \n",
    "    \n",
    "    plt.plot(train_size,train_score_mean,color = 'r')\n",
    "    plt.plot(train_size,test_score_mean,color ='g')\n",
    "    plt.xlabel('Samples')\n",
    "    plt.ylabel('Score')\n",
    "    plt.title('Learning Curve for '+ model_name)\n",
    "    plt.legend(['train_score','test_score'])"
   ]
  },
  {
   "cell_type": "code",
   "execution_count": 55,
   "id": "3535125a",
   "metadata": {},
   "outputs": [
    {
     "data": {
      "image/png": "[encoded data removed]",
      "text/plain": [
       "<Figure size 432x288 with 1 Axes>"
      ]
     },
     "metadata": {
      "needs_background": "light"
     },
     "output_type": "display_data"
    }
   ],
   "source": [
    "learning_curve_analysis('Logistic Regression',LogisticRegression(C=100,penalty='l2',solver= 'newton-cg'),pca_df.drop('Loan_Status',axis=1),pca_df[['Loan_Status']])"
   ]
  },
  {
   "cell_type": "code",
   "execution_count": 56,
   "id": "b6c90030",
   "metadata": {},
   "outputs": [],
   "source": [
    "# applaying clustering to see if accuracy is improving\n",
    "from sklearn.cluster import KMeans\n",
    "x = df.drop('Loan_Status',axis =1)\n",
    "y = df[['Loan_Status']]"
   ]
  },
  {
   "cell_type": "code",
   "execution_count": 57,
   "id": "11b73bd5",
   "metadata": {},
   "outputs": [],
   "source": [
    "labels = KMeans(n_clusters=2,random_state=100).fit_predict(x)"
   ]
  },
  {
   "cell_type": "code",
   "execution_count": 58,
   "id": "2de88310",
   "metadata": {},
   "outputs": [
    {
     "data": {
      "text/plain": [
       "<AxesSubplot:xlabel='Sex', ylabel='Loan_Status'>"
      ]
     },
     "execution_count": 58,
     "metadata": {},
     "output_type": "execute_result"
    },
    {
     "data": {
      "image/png": "[encoded data removed]",
      "text/plain": [
       "<Figure size 432x288 with 1 Axes>"
      ]
     },
     "metadata": {
      "needs_background": "light"
     },
     "output_type": "display_data"
    }
   ],
   "source": [
    "sns.scatterplot(x['Sex'],y.Loan_Status,hue=labels)"
   ]
  },
  {
   "cell_type": "code",
   "execution_count": 59,
   "id": "8bf747fd",
   "metadata": {},
   "outputs": [
    {
     "data": {
      "text/plain": [
       "<AxesSubplot:xlabel='Age', ylabel='Loan_Status'>"
      ]
     },
     "execution_count": 59,
     "metadata": {},
     "output_type": "execute_result"
    },
    {
     "data": {
      "image/png": "[encoded data removed]",
      "text/plain": [
       "<Figure size 432x288 with 1 Axes>"
      ]
     },
     "metadata": {
      "needs_background": "light"
     },
     "output_type": "display_data"
    }
   ],
   "source": [
    "sns.scatterplot(x['Age'],y.Loan_Status,hue=labels)"
   ]
  },
  {
   "cell_type": "code",
   "execution_count": 60,
   "id": "5ebe668f",
   "metadata": {},
   "outputs": [
    {
     "data": {
      "text/plain": [
       "<AxesSubplot:xlabel='Married', ylabel='Loan_Status'>"
      ]
     },
     "execution_count": 60,
     "metadata": {},
     "output_type": "execute_result"
    },
    {
     "data": {
      "image/png": "[encoded data removed]",
      "text/plain": [
       "<Figure size 432x288 with 1 Axes>"
      ]
     },
     "metadata": {
      "needs_background": "light"
     },
     "output_type": "display_data"
    }
   ],
   "source": [
    "sns.scatterplot(x['Married'],y.Loan_Status,hue=labels)"
   ]
  },
  {
   "cell_type": "code",
   "execution_count": 61,
   "id": "e96e1764",
   "metadata": {},
   "outputs": [
    {
     "data": {
      "text/plain": [
       "<AxesSubplot:xlabel='No. of People in the Family', ylabel='Loan_Status'>"
      ]
     },
     "execution_count": 61,
     "metadata": {},
     "output_type": "execute_result"
    },
    {
     "data": {
      "image/png": "[encoded data removed]",
      "text/plain": [
       "<Figure size 432x288 with 1 Axes>"
      ]
     },
     "metadata": {
      "needs_background": "light"
     },
     "output_type": "display_data"
    }
   ],
   "source": [
    "sns.scatterplot(x['No. of People in the Family'],y.Loan_Status,hue=labels)"
   ]
  },
  {
   "cell_type": "code",
   "execution_count": 62,
   "id": "fd409f98",
   "metadata": {},
   "outputs": [
    {
     "data": {
      "text/plain": [
       "<AxesSubplot:xlabel='Qualification', ylabel='Loan_Status'>"
      ]
     },
     "execution_count": 62,
     "metadata": {},
     "output_type": "execute_result"
    },
    {
     "data": {
      "image/png": "[encoded data removed]",
      "text/plain": [
       "<Figure size 432x288 with 1 Axes>"
      ]
     },
     "metadata": {
      "needs_background": "light"
     },
     "output_type": "display_data"
    }
   ],
   "source": [
    "sns.scatterplot(x['Qualification'],y.Loan_Status,hue=labels)"
   ]
  },
  {
   "cell_type": "code",
   "execution_count": 63,
   "id": "b5db6632",
   "metadata": {},
   "outputs": [
    {
     "data": {
      "text/plain": [
       "<AxesSubplot:xlabel='Self_Employed', ylabel='Loan_Status'>"
      ]
     },
     "execution_count": 63,
     "metadata": {},
     "output_type": "execute_result"
    },
    {
     "data": {
      "image/png": "[encoded data removed]",
      "text/plain": [
       "<Figure size 432x288 with 1 Axes>"
      ]
     },
     "metadata": {
      "needs_background": "light"
     },
     "output_type": "display_data"
    }
   ],
   "source": [
    "sns.scatterplot(x['Self_Employed'],y.Loan_Status,hue=labels)"
   ]
  },
  {
   "cell_type": "code",
   "execution_count": 64,
   "id": "1ccd3805",
   "metadata": {},
   "outputs": [
    {
     "data": {
      "text/plain": [
       "<AxesSubplot:xlabel='Loan_Bearer_Income', ylabel='Loan_Status'>"
      ]
     },
     "execution_count": 64,
     "metadata": {},
     "output_type": "execute_result"
    },
    {
     "data": {
      "image/png": "[encoded data removed]",
      "text/plain": [
       "<Figure size 432x288 with 1 Axes>"
      ]
     },
     "metadata": {
      "needs_background": "light"
     },
     "output_type": "display_data"
    }
   ],
   "source": [
    "sns.scatterplot(x['Loan_Bearer_Income'],y.Loan_Status,hue=labels)"
   ]
  },
  {
   "cell_type": "code",
   "execution_count": 65,
   "id": "8a686e11",
   "metadata": {},
   "outputs": [
    {
     "data": {
      "text/plain": [
       "<AxesSubplot:xlabel='Loan_Cobearer_Income', ylabel='Loan_Status'>"
      ]
     },
     "execution_count": 65,
     "metadata": {},
     "output_type": "execute_result"
    },
    {
     "data": {
      "image/png": "[encoded data removed]",
      "text/plain": [
       "<Figure size 432x288 with 1 Axes>"
      ]
     },
     "metadata": {
      "needs_background": "light"
     },
     "output_type": "display_data"
    }
   ],
   "source": [
    "sns.scatterplot(x['Loan_Cobearer_Income'],y.Loan_Status,hue=labels)"
   ]
  },
  {
   "cell_type": "code",
   "execution_count": 66,
   "id": "7faee912",
   "metadata": {},
   "outputs": [
    {
     "data": {
      "text/plain": [
       "<AxesSubplot:xlabel='Amount Disbursed', ylabel='Loan_Status'>"
      ]
     },
     "execution_count": 66,
     "metadata": {},
     "output_type": "execute_result"
    },
    {
     "data": {
      "image/png": "[encoded data removed]",
      "text/plain": [
       "<Figure size 432x288 with 1 Axes>"
      ]
     },
     "metadata": {
      "needs_background": "light"
     },
     "output_type": "display_data"
    }
   ],
   "source": [
    "sns.scatterplot(x['Amount Disbursed'],y.Loan_Status,hue=labels)"
   ]
  },
  {
   "cell_type": "code",
   "execution_count": 67,
   "id": "e3bca58d",
   "metadata": {},
   "outputs": [
    {
     "data": {
      "text/plain": [
       "<AxesSubplot:xlabel='Loan_Tenure', ylabel='Loan_Status'>"
      ]
     },
     "execution_count": 67,
     "metadata": {},
     "output_type": "execute_result"
    },
    {
     "data": {
      "image/png": "[encoded data removed]",
      "text/plain": [
       "<Figure size 432x288 with 1 Axes>"
      ]
     },
     "metadata": {
      "needs_background": "light"
     },
     "output_type": "display_data"
    }
   ],
   "source": [
    "sns.scatterplot(x['Loan_Tenure'],y.Loan_Status,hue=labels)"
   ]
  },
  {
   "cell_type": "code",
   "execution_count": 68,
   "id": "0f505846",
   "metadata": {},
   "outputs": [
    {
     "data": {
      "text/plain": [
       "<AxesSubplot:xlabel='Credit_Score', ylabel='Loan_Status'>"
      ]
     },
     "execution_count": 68,
     "metadata": {},
     "output_type": "execute_result"
    },
    {
     "data": {
      "image/png": "[encoded data removed]",
      "text/plain": [
       "<Figure size 432x288 with 1 Axes>"
      ]
     },
     "metadata": {
      "needs_background": "light"
     },
     "output_type": "display_data"
    }
   ],
   "source": [
    "sns.scatterplot(x['Credit_Score'],y.Loan_Status,hue=labels)"
   ]
  },
  {
   "cell_type": "code",
   "execution_count": 69,
   "id": "51371a86",
   "metadata": {},
   "outputs": [
    {
     "data": {
      "text/plain": [
       "<AxesSubplot:xlabel='Location_type', ylabel='Loan_Status'>"
      ]
     },
     "execution_count": 69,
     "metadata": {},
     "output_type": "execute_result"
    },
    {
     "data": {
      "image/png": "[encoded data removed]",
      "text/plain": [
       "<Figure size 432x288 with 1 Axes>"
      ]
     },
     "metadata": {
      "needs_background": "light"
     },
     "output_type": "display_data"
    }
   ],
   "source": [
    "sns.scatterplot(x['Location_type'],y.Loan_Status,hue=labels)"
   ]
  },
  {
   "cell_type": "code",
   "execution_count": 70,
   "id": "bff5c86f",
   "metadata": {},
   "outputs": [],
   "source": [
    "clusterdf =df.join(pd.DataFrame(labels,columns=['labels']),how = 'left')"
   ]
  },
  {
   "cell_type": "code",
   "execution_count": 71,
   "id": "45c50ee2",
   "metadata": {},
   "outputs": [
    {
     "name": "stdout",
     "output_type": "stream",
     "text": [
      "[19:12:27] WARNING: C:/Users/Administrator/workspace/xgboost-win64_release_1.5.1/src/learner.cc:1115: Starting in XGBoost 1.3.0, the default evaluation metric used with the objective 'binary:logistic' was changed from 'error' to 'logloss'. Explicitly set eval_metric if you'd like to restore the old behavior.\n",
      "[19:12:27] WARNING: C:/Users/Administrator/workspace/xgboost-win64_release_1.5.1/src/learner.cc:1115: Starting in XGBoost 1.3.0, the default evaluation metric used with the objective 'binary:logistic' was changed from 'error' to 'logloss'. Explicitly set eval_metric if you'd like to restore the old behavior.\n",
      "[19:12:27] WARNING: C:/Users/Administrator/workspace/xgboost-win64_release_1.5.1/src/learner.cc:1115: Starting in XGBoost 1.3.0, the default evaluation metric used with the objective 'binary:logistic' was changed from 'error' to 'logloss'. Explicitly set eval_metric if you'd like to restore the old behavior.\n",
      "[19:12:27] WARNING: C:/Users/Administrator/workspace/xgboost-win64_release_1.5.1/src/learner.cc:1115: Starting in XGBoost 1.3.0, the default evaluation metric used with the objective 'binary:logistic' was changed from 'error' to 'logloss'. Explicitly set eval_metric if you'd like to restore the old behavior.\n",
      "[19:12:27] WARNING: C:/Users/Administrator/workspace/xgboost-win64_release_1.5.1/src/learner.cc:1115: Starting in XGBoost 1.3.0, the default evaluation metric used with the objective 'binary:logistic' was changed from 'error' to 'logloss'. Explicitly set eval_metric if you'd like to restore the old behavior.\n",
      "[19:12:28] WARNING: C:/Users/Administrator/workspace/xgboost-win64_release_1.5.1/src/learner.cc:1115: Starting in XGBoost 1.3.0, the default evaluation metric used with the objective 'binary:logistic' was changed from 'error' to 'logloss'. Explicitly set eval_metric if you'd like to restore the old behavior.\n",
      "[19:12:28] WARNING: C:/Users/Administrator/workspace/xgboost-win64_release_1.5.1/src/learner.cc:1115: Starting in XGBoost 1.3.0, the default evaluation metric used with the objective 'binary:logistic' was changed from 'error' to 'logloss'. Explicitly set eval_metric if you'd like to restore the old behavior.\n",
      "[19:12:28] WARNING: C:/Users/Administrator/workspace/xgboost-win64_release_1.5.1/src/learner.cc:1115: Starting in XGBoost 1.3.0, the default evaluation metric used with the objective 'binary:logistic' was changed from 'error' to 'logloss'. Explicitly set eval_metric if you'd like to restore the old behavior.\n",
      "[19:12:28] WARNING: C:/Users/Administrator/workspace/xgboost-win64_release_1.5.1/src/learner.cc:1115: Starting in XGBoost 1.3.0, the default evaluation metric used with the objective 'binary:logistic' was changed from 'error' to 'logloss'. Explicitly set eval_metric if you'd like to restore the old behavior.\n",
      "[19:12:28] WARNING: C:/Users/Administrator/workspace/xgboost-win64_release_1.5.1/src/learner.cc:1115: Starting in XGBoost 1.3.0, the default evaluation metric used with the objective 'binary:logistic' was changed from 'error' to 'logloss'. Explicitly set eval_metric if you'd like to restore the old behavior.\n"
     ]
    },
    {
     "data": {
      "text/html": [
       "<div>\n",
       "<style scoped>\n",
       "    .dataframe tbody tr th:only-of-type {\n",
       "        vertical-align: middle;\n",
       "    }\n",
       "\n",
       "    .dataframe tbody tr th {\n",
       "        vertical-align: top;\n",
       "    }\n",
       "\n",
       "    .dataframe thead th {\n",
       "        text-align: right;\n",
       "    }\n",
       "</style>\n",
       "<table border=\"1\" class=\"dataframe\">\n",
       "  <thead>\n",
       "    <tr style=\"text-align: right;\">\n",
       "      <th></th>\n",
       "      <th>model_names</th>\n",
       "      <th>score_std</th>\n",
       "      <th>score_mean</th>\n",
       "    </tr>\n",
       "  </thead>\n",
       "  <tbody>\n",
       "    <tr>\n",
       "      <th>1</th>\n",
       "      <td>Ridge Classifier</td>\n",
       "      <td>0.033478</td>\n",
       "      <td>0.809572</td>\n",
       "    </tr>\n",
       "    <tr>\n",
       "      <th>0</th>\n",
       "      <td>Logistic Regression</td>\n",
       "      <td>0.032779</td>\n",
       "      <td>0.804654</td>\n",
       "    </tr>\n",
       "    <tr>\n",
       "      <th>5</th>\n",
       "      <td>RAndon forest</td>\n",
       "      <td>0.035589</td>\n",
       "      <td>0.796589</td>\n",
       "    </tr>\n",
       "    <tr>\n",
       "      <th>7</th>\n",
       "      <td>Gradient boost</td>\n",
       "      <td>0.043212</td>\n",
       "      <td>0.794923</td>\n",
       "    </tr>\n",
       "    <tr>\n",
       "      <th>6</th>\n",
       "      <td>Ada boost</td>\n",
       "      <td>0.034353</td>\n",
       "      <td>0.788234</td>\n",
       "    </tr>\n",
       "    <tr>\n",
       "      <th>8</th>\n",
       "      <td>Xgboost</td>\n",
       "      <td>0.045570</td>\n",
       "      <td>0.768826</td>\n",
       "    </tr>\n",
       "    <tr>\n",
       "      <th>2</th>\n",
       "      <td>Decission Tree</td>\n",
       "      <td>0.070734</td>\n",
       "      <td>0.700423</td>\n",
       "    </tr>\n",
       "    <tr>\n",
       "      <th>4</th>\n",
       "      <td>SVC</td>\n",
       "      <td>0.005314</td>\n",
       "      <td>0.687308</td>\n",
       "    </tr>\n",
       "    <tr>\n",
       "      <th>3</th>\n",
       "      <td>KNN</td>\n",
       "      <td>0.039541</td>\n",
       "      <td>0.623903</td>\n",
       "    </tr>\n",
       "  </tbody>\n",
       "</table>\n",
       "</div>"
      ],
      "text/plain": [
       "           model_names  score_std  score_mean\n",
       "1     Ridge Classifier   0.033478    0.809572\n",
       "0  Logistic Regression   0.032779    0.804654\n",
       "5        RAndon forest   0.035589    0.796589\n",
       "7       Gradient boost   0.043212    0.794923\n",
       "6            Ada boost   0.034353    0.788234\n",
       "8              Xgboost   0.045570    0.768826\n",
       "2       Decission Tree   0.070734    0.700423\n",
       "4                  SVC   0.005314    0.687308\n",
       "3                  KNN   0.039541    0.623903"
      ]
     },
     "execution_count": 71,
     "metadata": {},
     "output_type": "execute_result"
    }
   ],
   "source": [
    "cv_score(clusterdf.drop('Loan_Status',axis=1),clusterdf[['Loan_Status']])"
   ]
  },
  {
   "cell_type": "code",
   "execution_count": 72,
   "id": "6795f800",
   "metadata": {},
   "outputs": [],
   "source": [
    "# Feature importance using XGBoost"
   ]
  },
  {
   "cell_type": "code",
   "execution_count": 73,
   "id": "dad0f87c",
   "metadata": {},
   "outputs": [],
   "source": [
    "x_train , x_test, y_train, y_test = train_test_split(x,y, test_size = 0.2)"
   ]
  },
  {
   "cell_type": "code",
   "execution_count": 74,
   "id": "b19ec78b",
   "metadata": {},
   "outputs": [],
   "source": [
    "xgb = XGBClassifier()"
   ]
  },
  {
   "cell_type": "code",
   "execution_count": 75,
   "id": "494ef79f",
   "metadata": {},
   "outputs": [
    {
     "name": "stdout",
     "output_type": "stream",
     "text": [
      "[19:12:29] WARNING: C:/Users/Administrator/workspace/xgboost-win64_release_1.5.1/src/learner.cc:1115: Starting in XGBoost 1.3.0, the default evaluation metric used with the objective 'binary:logistic' was changed from 'error' to 'logloss'. Explicitly set eval_metric if you'd like to restore the old behavior.\n"
     ]
    },
    {
     "data": {
      "text/plain": [
       "XGBClassifier(base_score=0.5, booster='gbtree', colsample_bylevel=1,\n",
       "              colsample_bynode=1, colsample_bytree=1, enable_categorical=False,\n",
       "              gamma=0, gpu_id=-1, importance_type=None,\n",
       "              interaction_constraints='', learning_rate=0.300000012,\n",
       "              max_delta_step=0, max_depth=6, min_child_weight=1, missing=nan,\n",
       "              monotone_constraints='()', n_estimators=100, n_jobs=4,\n",
       "              num_parallel_tree=1, predictor='auto', random_state=0,\n",
       "              reg_alpha=0, reg_lambda=1, scale_pos_weight=1, subsample=1,\n",
       "              tree_method='exact', validate_parameters=1, verbosity=None)"
      ]
     },
     "execution_count": 75,
     "metadata": {},
     "output_type": "execute_result"
    }
   ],
   "source": [
    "xgb.fit(x_train,y_train)"
   ]
  },
  {
   "cell_type": "code",
   "execution_count": 76,
   "id": "222be6c0",
   "metadata": {},
   "outputs": [
    {
     "data": {
      "text/plain": [
       "<AxesSubplot:title={'center':'Feature importance'}, xlabel='F score', ylabel='Features'>"
      ]
     },
     "execution_count": 76,
     "metadata": {},
     "output_type": "execute_result"
    },
    {
     "data": {
      "image/png": "[encoded data removed]",
      "text/plain": [
       "<Figure size 432x288 with 1 Axes>"
      ]
     },
     "metadata": {
      "needs_background": "light"
     },
     "output_type": "display_data"
    }
   ],
   "source": [
    "xgboost.plot_importance(xgb)"
   ]
  },
  {
   "cell_type": "code",
   "execution_count": 77,
   "id": "ce7f5584",
   "metadata": {},
   "outputs": [],
   "source": [
    "x = clusterdf[[ 'Age', 'Married', 'No. of People in the Family', 'Loan_Bearer_Income', 'Loan_Cobearer_Income','Amount Disbursed', 'Loan_Tenure', 'Credit_Score', 'Location_type']]\n",
    "y = clusterdf[['Loan_Status']]"
   ]
  },
  {
   "cell_type": "code",
   "execution_count": 78,
   "id": "b44f06a6",
   "metadata": {},
   "outputs": [
    {
     "name": "stdout",
     "output_type": "stream",
     "text": [
      "[19:12:37] WARNING: C:/Users/Administrator/workspace/xgboost-win64_release_1.5.1/src/learner.cc:1115: Starting in XGBoost 1.3.0, the default evaluation metric used with the objective 'binary:logistic' was changed from 'error' to 'logloss'. Explicitly set eval_metric if you'd like to restore the old behavior.\n",
      "[19:12:37] WARNING: C:/Users/Administrator/workspace/xgboost-win64_release_1.5.1/src/learner.cc:1115: Starting in XGBoost 1.3.0, the default evaluation metric used with the objective 'binary:logistic' was changed from 'error' to 'logloss'. Explicitly set eval_metric if you'd like to restore the old behavior.\n",
      "[19:12:37] WARNING: C:/Users/Administrator/workspace/xgboost-win64_release_1.5.1/src/learner.cc:1115: Starting in XGBoost 1.3.0, the default evaluation metric used with the objective 'binary:logistic' was changed from 'error' to 'logloss'. Explicitly set eval_metric if you'd like to restore the old behavior.\n",
      "[19:12:38] WARNING: C:/Users/Administrator/workspace/xgboost-win64_release_1.5.1/src/learner.cc:1115: Starting in XGBoost 1.3.0, the default evaluation metric used with the objective 'binary:logistic' was changed from 'error' to 'logloss'. Explicitly set eval_metric if you'd like to restore the old behavior.\n",
      "[19:12:38] WARNING: C:/Users/Administrator/workspace/xgboost-win64_release_1.5.1/src/learner.cc:1115: Starting in XGBoost 1.3.0, the default evaluation metric used with the objective 'binary:logistic' was changed from 'error' to 'logloss'. Explicitly set eval_metric if you'd like to restore the old behavior.\n",
      "[19:12:38] WARNING: C:/Users/Administrator/workspace/xgboost-win64_release_1.5.1/src/learner.cc:1115: Starting in XGBoost 1.3.0, the default evaluation metric used with the objective 'binary:logistic' was changed from 'error' to 'logloss'. Explicitly set eval_metric if you'd like to restore the old behavior.\n",
      "[19:12:38] WARNING: C:/Users/Administrator/workspace/xgboost-win64_release_1.5.1/src/learner.cc:1115: Starting in XGBoost 1.3.0, the default evaluation metric used with the objective 'binary:logistic' was changed from 'error' to 'logloss'. Explicitly set eval_metric if you'd like to restore the old behavior.\n",
      "[19:12:38] WARNING: C:/Users/Administrator/workspace/xgboost-win64_release_1.5.1/src/learner.cc:1115: Starting in XGBoost 1.3.0, the default evaluation metric used with the objective 'binary:logistic' was changed from 'error' to 'logloss'. Explicitly set eval_metric if you'd like to restore the old behavior.\n",
      "[19:12:38] WARNING: C:/Users/Administrator/workspace/xgboost-win64_release_1.5.1/src/learner.cc:1115: Starting in XGBoost 1.3.0, the default evaluation metric used with the objective 'binary:logistic' was changed from 'error' to 'logloss'. Explicitly set eval_metric if you'd like to restore the old behavior.\n",
      "[19:12:39] WARNING: C:/Users/Administrator/workspace/xgboost-win64_release_1.5.1/src/learner.cc:1115: Starting in XGBoost 1.3.0, the default evaluation metric used with the objective 'binary:logistic' was changed from 'error' to 'logloss'. Explicitly set eval_metric if you'd like to restore the old behavior.\n"
     ]
    },
    {
     "data": {
      "text/html": [
       "<div>\n",
       "<style scoped>\n",
       "    .dataframe tbody tr th:only-of-type {\n",
       "        vertical-align: middle;\n",
       "    }\n",
       "\n",
       "    .dataframe tbody tr th {\n",
       "        vertical-align: top;\n",
       "    }\n",
       "\n",
       "    .dataframe thead th {\n",
       "        text-align: right;\n",
       "    }\n",
       "</style>\n",
       "<table border=\"1\" class=\"dataframe\">\n",
       "  <thead>\n",
       "    <tr style=\"text-align: right;\">\n",
       "      <th></th>\n",
       "      <th>model_names</th>\n",
       "      <th>score_std</th>\n",
       "      <th>score_mean</th>\n",
       "    </tr>\n",
       "  </thead>\n",
       "  <tbody>\n",
       "    <tr>\n",
       "      <th>1</th>\n",
       "      <td>Ridge Classifier</td>\n",
       "      <td>0.033478</td>\n",
       "      <td>0.809572</td>\n",
       "    </tr>\n",
       "    <tr>\n",
       "      <th>0</th>\n",
       "      <td>Logistic Regression</td>\n",
       "      <td>0.030333</td>\n",
       "      <td>0.804654</td>\n",
       "    </tr>\n",
       "    <tr>\n",
       "      <th>7</th>\n",
       "      <td>Gradient boost</td>\n",
       "      <td>0.039762</td>\n",
       "      <td>0.794950</td>\n",
       "    </tr>\n",
       "    <tr>\n",
       "      <th>5</th>\n",
       "      <td>RAndon forest</td>\n",
       "      <td>0.029499</td>\n",
       "      <td>0.788340</td>\n",
       "    </tr>\n",
       "    <tr>\n",
       "      <th>6</th>\n",
       "      <td>Ada boost</td>\n",
       "      <td>0.030921</td>\n",
       "      <td>0.783395</td>\n",
       "    </tr>\n",
       "    <tr>\n",
       "      <th>8</th>\n",
       "      <td>Xgboost</td>\n",
       "      <td>0.037553</td>\n",
       "      <td>0.778556</td>\n",
       "    </tr>\n",
       "    <tr>\n",
       "      <th>2</th>\n",
       "      <td>Decission Tree</td>\n",
       "      <td>0.066629</td>\n",
       "      <td>0.692464</td>\n",
       "    </tr>\n",
       "    <tr>\n",
       "      <th>4</th>\n",
       "      <td>SVC</td>\n",
       "      <td>0.005314</td>\n",
       "      <td>0.687308</td>\n",
       "    </tr>\n",
       "    <tr>\n",
       "      <th>3</th>\n",
       "      <td>KNN</td>\n",
       "      <td>0.039541</td>\n",
       "      <td>0.623903</td>\n",
       "    </tr>\n",
       "  </tbody>\n",
       "</table>\n",
       "</div>"
      ],
      "text/plain": [
       "           model_names  score_std  score_mean\n",
       "1     Ridge Classifier   0.033478    0.809572\n",
       "0  Logistic Regression   0.030333    0.804654\n",
       "7       Gradient boost   0.039762    0.794950\n",
       "5        RAndon forest   0.029499    0.788340\n",
       "6            Ada boost   0.030921    0.783395\n",
       "8              Xgboost   0.037553    0.778556\n",
       "2       Decission Tree   0.066629    0.692464\n",
       "4                  SVC   0.005314    0.687308\n",
       "3                  KNN   0.039541    0.623903"
      ]
     },
     "execution_count": 78,
     "metadata": {},
     "output_type": "execute_result"
    }
   ],
   "source": [
    "cv_score(x,y)"
   ]
  },
  {
   "cell_type": "markdown",
   "id": "d042b4b0",
   "metadata": {},
   "source": [
    "# Deep Learning"
   ]
  },
  {
   "cell_type": "code",
   "execution_count": 79,
   "id": "6b692278",
   "metadata": {},
   "outputs": [],
   "source": [
    "import matplotlib.pyplot as plt\n",
    "import tensorflow as tf\n",
    "\n",
    "from tensorflow.keras.models import Sequential\n",
    "from tensorflow.keras.layers import Dense"
   ]
  },
  {
   "cell_type": "code",
   "execution_count": 80,
   "id": "f635231c",
   "metadata": {},
   "outputs": [],
   "source": [
    "x = df.drop('Loan_Status',axis=1)\n",
    "y = df[['Loan_Status']]"
   ]
  },
  {
   "cell_type": "code",
   "execution_count": 81,
   "id": "38bd3eaa",
   "metadata": {},
   "outputs": [],
   "source": [
    "model = Sequential([Dense(36,activation='tanh',input_shape=(12,)),\n",
    "                    Dense(18,activation='relu'),\n",
    "                    Dense(1,activation='sigmoid')])"
   ]
  },
  {
   "cell_type": "code",
   "execution_count": 82,
   "id": "15bd353f",
   "metadata": {},
   "outputs": [
    {
     "name": "stdout",
     "output_type": "stream",
     "text": [
      "Model: \"sequential\"\n",
      "_________________________________________________________________\n",
      "Layer (type)                 Output Shape              Param #   \n",
      "=================================================================\n",
      "dense (Dense)                (None, 36)                468       \n",
      "_________________________________________________________________\n",
      "dense_1 (Dense)              (None, 18)                666       \n",
      "_________________________________________________________________\n",
      "dense_2 (Dense)              (None, 1)                 19        \n",
      "=================================================================\n",
      "Total params: 1,153\n",
      "Trainable params: 1,153\n",
      "Non-trainable params: 0\n",
      "_________________________________________________________________\n"
     ]
    }
   ],
   "source": [
    "model.summary()"
   ]
  },
  {
   "cell_type": "code",
   "execution_count": 83,
   "id": "88b6d6ba",
   "metadata": {},
   "outputs": [],
   "source": [
    "model.compile(optimizer='Adam',loss='binary_crossentropy',metrics=['accuracy'])"
   ]
  },
  {
   "cell_type": "code",
   "execution_count": 84,
   "id": "7a748983",
   "metadata": {},
   "outputs": [
    {
     "name": "stdout",
     "output_type": "stream",
     "text": [
      "Epoch 1/8\n",
      "17/17 [==============================] - 1s 17ms/step - loss: 0.7204 - accuracy: 0.4929 - val_loss: 0.6576 - val_accuracy: 0.6504\n",
      "Epoch 2/8\n",
      "17/17 [==============================] - 0s 4ms/step - loss: 0.6255 - accuracy: 0.6864 - val_loss: 0.6456 - val_accuracy: 0.6748\n",
      "Epoch 3/8\n",
      "17/17 [==============================] - 0s 4ms/step - loss: 0.6141 - accuracy: 0.6925 - val_loss: 0.6429 - val_accuracy: 0.6748\n",
      "Epoch 4/8\n",
      "17/17 [==============================] - 0s 4ms/step - loss: 0.6111 - accuracy: 0.6945 - val_loss: 0.6459 - val_accuracy: 0.6748\n",
      "Epoch 5/8\n",
      "17/17 [==============================] - 0s 4ms/step - loss: 0.6052 - accuracy: 0.7026 - val_loss: 0.6473 - val_accuracy: 0.6667\n",
      "Epoch 6/8\n",
      "17/17 [==============================] - 0s 4ms/step - loss: 0.6030 - accuracy: 0.7047 - val_loss: 0.6496 - val_accuracy: 0.6585\n",
      "Epoch 7/8\n",
      "17/17 [==============================] - 0s 4ms/step - loss: 0.6019 - accuracy: 0.7088 - val_loss: 0.6462 - val_accuracy: 0.6504\n",
      "Epoch 8/8\n",
      "17/17 [==============================] - 0s 4ms/step - loss: 0.6026 - accuracy: 0.7067 - val_loss: 0.6412 - val_accuracy: 0.6748\n"
     ]
    }
   ],
   "source": [
    "history = model.fit(x_train,y_train,epochs=8,batch_size=30,validation_data=(x_test,y_test))"
   ]
  },
  {
   "cell_type": "code",
   "execution_count": 85,
   "id": "ddb85f71",
   "metadata": {},
   "outputs": [
    {
     "data": {
      "text/plain": [
       "<matplotlib.legend.Legend at 0x82eb41a040>"
      ]
     },
     "execution_count": 85,
     "metadata": {},
     "output_type": "execute_result"
    },
    {
     "data": {
      "image/png": "[encoded data removed]",
      "text/plain": [
       "<Figure size 432x288 with 1 Axes>"
      ]
     },
     "metadata": {
      "needs_background": "light"
     },
     "output_type": "display_data"
    }
   ],
   "source": [
    "plt.plot(history.history['loss'])\n",
    "plt.plot(history.history['val_loss'])\n",
    "plt.xlabel('epochs')\n",
    "plt.ylabel('loss')\n",
    "plt.title('loss plot')\n",
    "plt.legend(['training','testing'])"
   ]
  },
  {
   "cell_type": "code",
   "execution_count": 86,
   "id": "422e12a5",
   "metadata": {},
   "outputs": [
    {
     "data": {
      "text/plain": [
       "<matplotlib.legend.Legend at 0x82e91da3d0>"
      ]
     },
     "execution_count": 86,
     "metadata": {},
     "output_type": "execute_result"
    },
    {
     "data": {
      "image/png": "[encoded data removed]",
      "text/plain": [
       "<Figure size 432x288 with 1 Axes>"
      ]
     },
     "metadata": {
      "needs_background": "light"
     },
     "output_type": "display_data"
    }
   ],
   "source": [
    "plt.plot(history.history['accuracy'])\n",
    "plt.plot(history.history['val_accuracy'])\n",
    "plt.xlabel('epochs')\n",
    "plt.ylabel('accuracy')\n",
    "plt.title('accuracy plot')\n",
    "plt.legend(['training','testing'])"
   ]
  }
 ],
 "metadata": {
  "kernelspec": {
   "display_name": "Python 3 (ipykernel)",
   "language": "python",
   "name": "python3"
  },
  "language_info": {
   "codemirror_mode": {
    "name": "ipython",
    "version": 3
   },
   "file_extension": ".py",
   "mimetype": "text/x-python",
   "name": "python",
   "nbconvert_exporter": "python",
   "pygments_lexer": "ipython3",
   "version": "3.9.7"
  }
 },
 "nbformat": 4,
 "nbformat_minor": 5
}
